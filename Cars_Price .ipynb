{
 "cells": [
  {
   "cell_type": "markdown",
   "id": "95781d89",
   "metadata": {},
   "source": [
    "Car Price Prediction"
   ]
  },
  {
   "cell_type": "code",
   "execution_count": 316,
   "id": "ef1f4ecf",
   "metadata": {},
   "outputs": [],
   "source": [
    "#Importing Libraries:\n",
    "import numpy as np\n",
    "import pandas as pd"
   ]
  },
  {
   "cell_type": "code",
   "execution_count": 317,
   "id": "87690fbe",
   "metadata": {},
   "outputs": [
    {
     "data": {
      "text/html": [
       "<div>\n",
       "<style scoped>\n",
       "    .dataframe tbody tr th:only-of-type {\n",
       "        vertical-align: middle;\n",
       "    }\n",
       "\n",
       "    .dataframe tbody tr th {\n",
       "        vertical-align: top;\n",
       "    }\n",
       "\n",
       "    .dataframe thead th {\n",
       "        text-align: right;\n",
       "    }\n",
       "</style>\n",
       "<table border=\"1\" class=\"dataframe\">\n",
       "  <thead>\n",
       "    <tr style=\"text-align: right;\">\n",
       "      <th></th>\n",
       "      <th>Unnamed:0</th>\n",
       "      <th>Model Year</th>\n",
       "      <th>Brand</th>\n",
       "      <th>Car Name</th>\n",
       "      <th>Variant</th>\n",
       "      <th>Distance Travelled</th>\n",
       "      <th>Number of Owners</th>\n",
       "      <th>fuel type</th>\n",
       "      <th>Price</th>\n",
       "    </tr>\n",
       "  </thead>\n",
       "  <tbody>\n",
       "    <tr>\n",
       "      <th>0</th>\n",
       "      <td>0</td>\n",
       "      <td>2012</td>\n",
       "      <td>Maruti</td>\n",
       "      <td>Swift Dzire</td>\n",
       "      <td>Manual</td>\n",
       "      <td>118117</td>\n",
       "      <td>1st</td>\n",
       "      <td>Diesel</td>\n",
       "      <td>316399</td>\n",
       "    </tr>\n",
       "    <tr>\n",
       "      <th>1</th>\n",
       "      <td>1</td>\n",
       "      <td>2016</td>\n",
       "      <td>Renault</td>\n",
       "      <td>Kwid</td>\n",
       "      <td>Manual</td>\n",
       "      <td>46028</td>\n",
       "      <td>2nd</td>\n",
       "      <td>Petrol</td>\n",
       "      <td>277599</td>\n",
       "    </tr>\n",
       "    <tr>\n",
       "      <th>2</th>\n",
       "      <td>2</td>\n",
       "      <td>2013</td>\n",
       "      <td>Maruti</td>\n",
       "      <td>Swift</td>\n",
       "      <td>Manual</td>\n",
       "      <td>114506</td>\n",
       "      <td>1st</td>\n",
       "      <td>Diesel</td>\n",
       "      <td>341599</td>\n",
       "    </tr>\n",
       "    <tr>\n",
       "      <th>3</th>\n",
       "      <td>3</td>\n",
       "      <td>2014</td>\n",
       "      <td>Maruti</td>\n",
       "      <td>Ritz</td>\n",
       "      <td>Manual</td>\n",
       "      <td>43382</td>\n",
       "      <td>1st</td>\n",
       "      <td>Diesel</td>\n",
       "      <td>344199</td>\n",
       "    </tr>\n",
       "    <tr>\n",
       "      <th>4</th>\n",
       "      <td>4</td>\n",
       "      <td>2013</td>\n",
       "      <td>Hyundai</td>\n",
       "      <td>i20</td>\n",
       "      <td>Manual</td>\n",
       "      <td>64361</td>\n",
       "      <td>1st</td>\n",
       "      <td>Diesel</td>\n",
       "      <td>355799</td>\n",
       "    </tr>\n",
       "  </tbody>\n",
       "</table>\n",
       "</div>"
      ],
      "text/plain": [
       "   Unnamed:0  Model Year    Brand     Car Name Variant  Distance Travelled  \\\n",
       "0          0        2012   Maruti  Swift Dzire  Manual              118117   \n",
       "1          1        2016  Renault         Kwid  Manual               46028   \n",
       "2          2        2013   Maruti        Swift  Manual              114506   \n",
       "3          3        2014   Maruti         Ritz  Manual               43382   \n",
       "4          4        2013  Hyundai          i20  Manual               64361   \n",
       "\n",
       "  Number of Owners fuel type   Price  \n",
       "0              1st    Diesel  316399  \n",
       "1              2nd    Petrol  277599  \n",
       "2              1st    Diesel  341599  \n",
       "3              1st    Diesel  344199  \n",
       "4              1st    Diesel  355799  "
      ]
     },
     "execution_count": 317,
     "metadata": {},
     "output_type": "execute_result"
    }
   ],
   "source": [
    "#Reading excel file and converting it in dataframe\n",
    "ds= pd.read_excel(\"C:\\\\Users\\\\hp\\\\Desktop\\\\Cars_Data.xlsx\")\n",
    "df=pd.DataFrame(ds)\n",
    "df.head()"
   ]
  },
  {
   "cell_type": "markdown",
   "id": "e8ef9258",
   "metadata": {},
   "source": [
    "Dataset in Dataframe format.\n",
    "Regression Model"
   ]
  },
  {
   "cell_type": "code",
   "execution_count": 3,
   "id": "0719a239",
   "metadata": {},
   "outputs": [
    {
     "data": {
      "text/plain": [
       "(7085, 9)"
      ]
     },
     "execution_count": 3,
     "metadata": {},
     "output_type": "execute_result"
    }
   ],
   "source": [
    "# Rows & Columns in dataset:\n",
    "\n",
    "df.shape"
   ]
  },
  {
   "cell_type": "markdown",
   "id": "baa993d3",
   "metadata": {},
   "source": [
    "Dataset has 7085 Rows and 9 Columns"
   ]
  },
  {
   "cell_type": "code",
   "execution_count": 41,
   "id": "30f33a1f",
   "metadata": {},
   "outputs": [
    {
     "data": {
      "text/plain": [
       "Unnamed:0              int64\n",
       "Model Year             int64\n",
       "Brand                 object\n",
       "Car Name              object\n",
       "Variant               object\n",
       "Distance Travelled     int64\n",
       "Number of Owners      object\n",
       "fuel type             object\n",
       "Price                  int64\n",
       "dtype: object"
      ]
     },
     "execution_count": 41,
     "metadata": {},
     "output_type": "execute_result"
    }
   ],
   "source": [
    "# Datatype of dataset\n",
    "\n",
    "df.dtypes"
   ]
  },
  {
   "cell_type": "markdown",
   "id": "aa66b901",
   "metadata": {},
   "source": [
    "There are 5 Object datatype and 4 numeric datatype.\n",
    "Target label is 'Price' which is int type."
   ]
  },
  {
   "cell_type": "code",
   "execution_count": 3,
   "id": "bd20ec12",
   "metadata": {},
   "outputs": [
    {
     "name": "stdout",
     "output_type": "stream",
     "text": [
      "<class 'pandas.core.frame.DataFrame'>\n",
      "RangeIndex: 7085 entries, 0 to 7084\n",
      "Data columns (total 9 columns):\n",
      " #   Column              Non-Null Count  Dtype \n",
      "---  ------              --------------  ----- \n",
      " 0   Unnamed:0           7085 non-null   int64 \n",
      " 1   Model Year          7085 non-null   int64 \n",
      " 2   Brand               7085 non-null   object\n",
      " 3   Car Name            7085 non-null   object\n",
      " 4   Variant             6861 non-null   object\n",
      " 5   Distance Travelled  7085 non-null   int64 \n",
      " 6   Number of Owners    7085 non-null   object\n",
      " 7   fuel type           7085 non-null   object\n",
      " 8   Price               7085 non-null   int64 \n",
      "dtypes: int64(4), object(5)\n",
      "memory usage: 498.3+ KB\n"
     ]
    }
   ],
   "source": [
    "# Information about data\n",
    "\n",
    "df.info()"
   ]
  },
  {
   "cell_type": "markdown",
   "id": "3d11b63c",
   "metadata": {},
   "source": [
    "Total count in each column is 7085, Variant column has nan values\n",
    "There are 4 numeric values and 5 object values."
   ]
  },
  {
   "cell_type": "code",
   "execution_count": 42,
   "id": "0ab31559",
   "metadata": {},
   "outputs": [
    {
     "name": "stdout",
     "output_type": "stream",
     "text": [
      "Unnamed:0: [   0    1    2 ... 1027 1028 1029]\n",
      "Model Year: [2012 2016 2013 2014 2018 2017 2019 2015 2020 2010 2011 2009 2021 2008\n",
      " 2007 2006 2005 1999 2004 2002 2003 2000]\n",
      "Brand: ['Maruti' 'Renault' 'Hyundai' 'Honda' 'BMW' 'Ford' 'Toyota' 'Volvo' 'Tata'\n",
      " 'MG' 'Mahindra' 'Datsun' 'Audi' 'Skoda' 'Volkswagen' 'Nissan' 'HYUNDAI'\n",
      " 'KIA' 'Mercedes' 'Jeep' 'Ssangyong' 'Landrover' 'Jaguar' 'Kia'\n",
      " 'Chevrolet' 'Mercedes-Benz' 'Land' 'Fiat' 'Porsche' 'Mitsubishi' 'Mini']\n",
      "Car Name: ['Swift Dzire' 'Kwid' 'Swift' 'Ritz' 'i20' 'City' 'Wagon R 1.0' 'Ciaz'\n",
      " 'Vitara Brezza' 'X1' 'S Cross' 'Tucson New' 'FREESTYLE' 'Baleno' 'Fiesta'\n",
      " 'Alto 800' 'Fortuner' 'S60' 'Tiago' 'Verna' 'AURA' 'HECTOR' '3 Series'\n",
      " 'TUV300' 'New Wagon-R' 'Xcent' 'S PRESSO' 'IGNIS' 'New Figo' 'Creta'\n",
      " 'Elite i20' 'Redi Go' 'VENUE' 'Ecosport' 'Dzire' 'Q3' 'Glanza'\n",
      " 'Grand i10' 'Innova' 'Amaze' 'Ertiga' 'Superb' 'Jazz' 'Figo Aspire'\n",
      " 'YARIS' 'Corolla Altis' 'Brio' 'Duster' 'Etios Liva' 'Alto K10' 'Etios'\n",
      " 'Polo' 'XUV500' '5 Series' 'Celerio' 'i10' 'Eon' 'Vento' 'X3'\n",
      " 'GRAND I10 NIOS' 'Alto' 'Terrano' 'Scorpio' 'Bolero' 'Figo' 'CRV' 'WR-V'\n",
      " 'NEW I20' 'TIGOR' 'NEXON' 'XUV 3OO' 'Innova Crysta' 'Civic' 'XL6'\n",
      " 'SELTOS' 'Eeco' 'Benz E Class' 'Thar' 'i20 Active' 'A3' 'Compass'\n",
      " 'NEW SANTRO' 'MARAZZO' 'Rapid' 'TRIBER' 'Santro Xing' 'Nano' 'Zen Estilo'\n",
      " 'Ameo' 'OMNI E' 'Kuv100' 'BR-V' 'Lodgy' 'Hexa' 'Celerio X' 'Micra Active'\n",
      " 'Micra' 'A Star' 'Wagon R Stingray' 'Rexton' 'NUVOSPORT' 'Passat'\n",
      " 'Harrier' 'New Elantra' 'Camry' 'Freelander 2' 'XF' 'Santa Fe' 'SX4'\n",
      " 'Jetta' 'Wagon R' 'S-Presso' 'Quanto' 'Seltos' 'Aveo' 'Sail Hatchback'\n",
      " 'New C-Class' 'Aura' 'Beat' 'Venue' 'Ignis' 'EON' 'GO' 'Tigor' 'Sunny'\n",
      " 'Rover Range Rover Sport' 'Endeavour' 'Bolero Power Plus' 'KWID'\n",
      " 'New Safari' 'Enjoy' 'KUV 100' 'Indica Vista' 'Accent' 'Xylo' 'RediGO'\n",
      " 'Q5' 'E-Class' 'Rover Discovery Sport' 'Kodiaq' 'A4' 'Elantra' 'S-Class'\n",
      " 'GLA Class' 'SX4 S Cross' 'TUV 300' 'Grand i10 Nios' 'Altroz' 'Mobilio'\n",
      " 'Sumo' 'Baleno RS' 'Accord' 'V40' 'Hector' 'Corolla' 'Rover Freelander 2'\n",
      " 'GL-Class' 'New Laura' 'M-Class' 'A Class' 'CR-V' 'Cruze' 'Q7'\n",
      " 'Ssangyong Rexton' 'A-Star' 'Octavia' 'Rover Range Rover Evoque' 'Punto'\n",
      " 'Manza' 'Renault Logan' '800' 'Spark' 'Santro' 'Nexon' 'Ciaz S'\n",
      " 'Grand Vitara' 'Indigo' 'Fabia' 'XJ' 'GLS' 'SLK-Class' 'X5' 'A6'\n",
      " 'CrossPolo' 'Yaris' 'Triber' 'TT' 'Tucson' 'V90 Cross Country' 'Sonet'\n",
      " '3 Series GT' 'GO Plus' 'Ikon' 'Zen' 'Captur' 'Grande Punto' 'Omni'\n",
      " 'Zest' 'GLE Class' 'E Verito' 'Bolt' 'Scala' 'Linea' 'Cayenne' 'Pajero'\n",
      " 'Getz' 'Hector Plus' 'Sonata' 'Indica' '7 Series' 'Cooper Countryman'\n",
      " 'XC60' 'CLA' 'CLS-Class' 'Qualis' 'B Class' 'RS5' 'V40 Cross Country']\n",
      "Variant: ['Manual' 'Automatic' nan 'manual' 'automatic']\n",
      "Distance Travelled: [118117  46028 114506 ...  27500  87792  90004]\n",
      "Number of Owners: ['1st' '2nd' '3rd' '4th']\n",
      "fuel type: ['Diesel' 'Petrol' 'Petrol + CNG' 'Petrol + LPG' 'CNG' 'LPG'\n",
      " 'Electric(Battery)']\n",
      "Price: [ 316399  277599  341599 ... 1800000 1260000  210999]\n"
     ]
    }
   ],
   "source": [
    "# Checking Unique values of Dataset:\n",
    "\n",
    "column_name =df.columns.values\n",
    "for column in column_name:\n",
    "    print(\"{0}: {1}\".format(column, df[column].unique()))"
   ]
  },
  {
   "cell_type": "markdown",
   "id": "f2f4941c",
   "metadata": {},
   "source": [
    "Variant Column has nan values and other columns have no null values."
   ]
  },
  {
   "cell_type": "markdown",
   "id": "61e763e8",
   "metadata": {},
   "source": [
    "## Data Pre Processing:"
   ]
  },
  {
   "cell_type": "code",
   "execution_count": 318,
   "id": "c8af43d8",
   "metadata": {},
   "outputs": [
    {
     "data": {
      "text/plain": [
       "1    5296\n",
       "2    1706\n",
       "3      76\n",
       "4       7\n",
       "Name: Number of Owners, dtype: int64"
      ]
     },
     "execution_count": 318,
     "metadata": {},
     "output_type": "execute_result"
    }
   ],
   "source": [
    "# Replacing values of Number of Owners\n",
    "\n",
    "df['Number of Owners'] = df['Number of Owners'].replace({'1st':'1', '2nd':'2', '3rd':'3', '4th':'4' })\n",
    "df['Number of Owners'].value_counts()"
   ]
  },
  {
   "cell_type": "code",
   "execution_count": 319,
   "id": "52435127",
   "metadata": {},
   "outputs": [],
   "source": [
    "# Number of Owners column datatype changed from object to int64\n",
    "\n",
    "df['Number of Owners']=df['Number of Owners'].astype('int64')"
   ]
  },
  {
   "cell_type": "code",
   "execution_count": 320,
   "id": "3512d0ac",
   "metadata": {},
   "outputs": [
    {
     "data": {
      "text/plain": [
       "Manual       5789\n",
       "Automatic    1072\n",
       "Name: Variant, dtype: int64"
      ]
     },
     "execution_count": 320,
     "metadata": {},
     "output_type": "execute_result"
    }
   ],
   "source": [
    "# Replacing values of Variant column\n",
    "\n",
    "df['Variant'] = df['Variant'].replace({'manual':'Manual', 'automatic':'Automatic'})\n",
    "df['Variant'].value_counts()"
   ]
  },
  {
   "cell_type": "code",
   "execution_count": 321,
   "id": "4cf3100f",
   "metadata": {},
   "outputs": [
    {
     "data": {
      "text/plain": [
       "0    Manual\n",
       "dtype: object"
      ]
     },
     "execution_count": 321,
     "metadata": {},
     "output_type": "execute_result"
    }
   ],
   "source": [
    "# finding mode of Variant column\n",
    "\n",
    "df['Variant'].mode()"
   ]
  },
  {
   "cell_type": "code",
   "execution_count": 322,
   "id": "8d82be7f",
   "metadata": {},
   "outputs": [],
   "source": [
    "# Filling nan value in dataset with mode\n",
    "\n",
    "df['Variant'].fillna(df['Variant'].mode()[0],inplace=True)"
   ]
  },
  {
   "cell_type": "code",
   "execution_count": 323,
   "id": "7e878f88",
   "metadata": {},
   "outputs": [
    {
     "data": {
      "text/plain": [
       "0    6013\n",
       "1    1072\n",
       "Name: Variant, dtype: int64"
      ]
     },
     "execution_count": 323,
     "metadata": {},
     "output_type": "execute_result"
    }
   ],
   "source": [
    "# Variant column values replaced \n",
    "\n",
    "df['Variant'] = df['Variant'].replace({'Manual':0, 'Automatic':1})\n",
    "df['Variant'].value_counts()"
   ]
  },
  {
   "cell_type": "code",
   "execution_count": 324,
   "id": "057700fa",
   "metadata": {},
   "outputs": [
    {
     "data": {
      "text/plain": [
       "array(['Diesel', 'Petrol', 'Petrol + CNG', 'Petrol + LPG', 'CNG', 'LPG',\n",
       "       'Electric(Battery)'], dtype=object)"
      ]
     },
     "execution_count": 324,
     "metadata": {},
     "output_type": "execute_result"
    }
   ],
   "source": [
    "#checking values of fuel type column\n",
    "df['fuel type'].unique()"
   ]
  },
  {
   "cell_type": "code",
   "execution_count": 325,
   "id": "b9527ecc",
   "metadata": {},
   "outputs": [
    {
     "data": {
      "text/plain": [
       "Petrol      4728\n",
       "Diesel      2320\n",
       "CNG           33\n",
       "LPG            3\n",
       "Electric       1\n",
       "Name: fuel type, dtype: int64"
      ]
     },
     "execution_count": 325,
     "metadata": {},
     "output_type": "execute_result"
    }
   ],
   "source": [
    "# fuel type column value replaced \n",
    "\n",
    "df['fuel type'] = df['fuel type'].replace({'Petrol + CNG':'Petrol', 'Petrol + LPG':'Petrol', 'Electric(Battery)':'Electric'})\n",
    "df['fuel type'].value_counts()"
   ]
  },
  {
   "cell_type": "code",
   "execution_count": 326,
   "id": "cb7f0511",
   "metadata": {},
   "outputs": [
    {
     "data": {
      "text/plain": [
       "1    4728\n",
       "0    2320\n",
       "2      33\n",
       "3       3\n",
       "4       1\n",
       "Name: fuel type, dtype: int64"
      ]
     },
     "execution_count": 326,
     "metadata": {},
     "output_type": "execute_result"
    }
   ],
   "source": [
    "# fuel type column value replaced to numeric value\n",
    "\n",
    "df['fuel type'] = df['fuel type'].replace({'Diesel':0, 'Petrol':1, 'CNG':2, 'LPG':3, 'Electric':4})\n",
    "df['fuel type'].value_counts()"
   ]
  },
  {
   "cell_type": "code",
   "execution_count": 293,
   "id": "9543cb8d",
   "metadata": {},
   "outputs": [
    {
     "name": "stdout",
     "output_type": "stream",
     "text": [
      "<class 'pandas.core.frame.DataFrame'>\n",
      "RangeIndex: 7085 entries, 0 to 7084\n",
      "Data columns (total 9 columns):\n",
      " #   Column              Non-Null Count  Dtype \n",
      "---  ------              --------------  ----- \n",
      " 0   Unnamed:0           7085 non-null   int64 \n",
      " 1   Model Year          7085 non-null   int64 \n",
      " 2   Brand               7085 non-null   object\n",
      " 3   Car Name            7085 non-null   object\n",
      " 4   Variant             7085 non-null   int64 \n",
      " 5   Distance Travelled  7085 non-null   int64 \n",
      " 6   Number of Owners    7085 non-null   int64 \n",
      " 7   fuel type           7085 non-null   int64 \n",
      " 8   Price               7085 non-null   int64 \n",
      "dtypes: int64(7), object(2)\n",
      "memory usage: 498.3+ KB\n"
     ]
    }
   ],
   "source": [
    "#after pre processing checking information of dataset.\n",
    "\n",
    "df.info()"
   ]
  },
  {
   "cell_type": "markdown",
   "id": "7763d391",
   "metadata": {},
   "source": [
    "# Data Cleaning:"
   ]
  },
  {
   "cell_type": "code",
   "execution_count": 327,
   "id": "c0d6784a",
   "metadata": {},
   "outputs": [
    {
     "data": {
      "text/html": [
       "<div>\n",
       "<style scoped>\n",
       "    .dataframe tbody tr th:only-of-type {\n",
       "        vertical-align: middle;\n",
       "    }\n",
       "\n",
       "    .dataframe tbody tr th {\n",
       "        vertical-align: top;\n",
       "    }\n",
       "\n",
       "    .dataframe thead th {\n",
       "        text-align: right;\n",
       "    }\n",
       "</style>\n",
       "<table border=\"1\" class=\"dataframe\">\n",
       "  <thead>\n",
       "    <tr style=\"text-align: right;\">\n",
       "      <th></th>\n",
       "      <th>Model Year</th>\n",
       "      <th>Brand</th>\n",
       "      <th>Car Name</th>\n",
       "      <th>Variant</th>\n",
       "      <th>Distance Travelled</th>\n",
       "      <th>Number of Owners</th>\n",
       "      <th>fuel type</th>\n",
       "      <th>Price</th>\n",
       "    </tr>\n",
       "  </thead>\n",
       "  <tbody>\n",
       "    <tr>\n",
       "      <th>0</th>\n",
       "      <td>2012</td>\n",
       "      <td>Maruti</td>\n",
       "      <td>Swift Dzire</td>\n",
       "      <td>0</td>\n",
       "      <td>118117</td>\n",
       "      <td>1</td>\n",
       "      <td>0</td>\n",
       "      <td>316399</td>\n",
       "    </tr>\n",
       "    <tr>\n",
       "      <th>1</th>\n",
       "      <td>2016</td>\n",
       "      <td>Renault</td>\n",
       "      <td>Kwid</td>\n",
       "      <td>0</td>\n",
       "      <td>46028</td>\n",
       "      <td>2</td>\n",
       "      <td>1</td>\n",
       "      <td>277599</td>\n",
       "    </tr>\n",
       "    <tr>\n",
       "      <th>2</th>\n",
       "      <td>2013</td>\n",
       "      <td>Maruti</td>\n",
       "      <td>Swift</td>\n",
       "      <td>0</td>\n",
       "      <td>114506</td>\n",
       "      <td>1</td>\n",
       "      <td>0</td>\n",
       "      <td>341599</td>\n",
       "    </tr>\n",
       "    <tr>\n",
       "      <th>3</th>\n",
       "      <td>2014</td>\n",
       "      <td>Maruti</td>\n",
       "      <td>Ritz</td>\n",
       "      <td>0</td>\n",
       "      <td>43382</td>\n",
       "      <td>1</td>\n",
       "      <td>0</td>\n",
       "      <td>344199</td>\n",
       "    </tr>\n",
       "    <tr>\n",
       "      <th>4</th>\n",
       "      <td>2013</td>\n",
       "      <td>Hyundai</td>\n",
       "      <td>i20</td>\n",
       "      <td>0</td>\n",
       "      <td>64361</td>\n",
       "      <td>1</td>\n",
       "      <td>0</td>\n",
       "      <td>355799</td>\n",
       "    </tr>\n",
       "  </tbody>\n",
       "</table>\n",
       "</div>"
      ],
      "text/plain": [
       "   Model Year    Brand     Car Name  Variant  Distance Travelled  \\\n",
       "0        2012   Maruti  Swift Dzire        0              118117   \n",
       "1        2016  Renault         Kwid        0               46028   \n",
       "2        2013   Maruti        Swift        0              114506   \n",
       "3        2014   Maruti         Ritz        0               43382   \n",
       "4        2013  Hyundai          i20        0               64361   \n",
       "\n",
       "   Number of Owners  fuel type   Price  \n",
       "0                 1          0  316399  \n",
       "1                 2          1  277599  \n",
       "2                 1          0  341599  \n",
       "3                 1          0  344199  \n",
       "4                 1          0  355799  "
      ]
     },
     "execution_count": 327,
     "metadata": {},
     "output_type": "execute_result"
    }
   ],
   "source": [
    "#dropped Unnamed:0 column as it didnt affected the price column for prediction.\n",
    "\n",
    "df.drop(['Unnamed:0'],axis=1,inplace=True)\n",
    "df.head()"
   ]
  },
  {
   "cell_type": "markdown",
   "id": "c3da8bb2",
   "metadata": {},
   "source": [
    "# EDA\n",
    "\n",
    "## Visualisation"
   ]
  },
  {
   "cell_type": "code",
   "execution_count": 328,
   "id": "6138f913",
   "metadata": {},
   "outputs": [],
   "source": [
    "import seaborn as sns\n",
    "import matplotlib.pyplot as plt"
   ]
  },
  {
   "cell_type": "markdown",
   "id": "cae3ac1b",
   "metadata": {},
   "source": [
    "## Plotting Numeric data"
   ]
  },
  {
   "cell_type": "code",
   "execution_count": 298,
   "id": "31a433b1",
   "metadata": {},
   "outputs": [
    {
     "data": {
      "text/plain": [
       "<AxesSubplot:xlabel='Price', ylabel='Density'>"
      ]
     },
     "execution_count": 298,
     "metadata": {},
     "output_type": "execute_result"
    },
    {
     "data": {
      "image/png": "[encoded data removed]",
      "text/plain": [
       "<Figure size 432x288 with 1 Axes>"
      ]
     },
     "metadata": {
      "needs_background": "light"
     },
     "output_type": "display_data"
    }
   ],
   "source": [
    "# Target Label plotting:\n",
    "\n",
    "sns.distplot(df['Price'], kde=True)"
   ]
  },
  {
   "cell_type": "markdown",
   "id": "c49d2302",
   "metadata": {},
   "source": [
    "Data is not equally distributed and has skewness"
   ]
  },
  {
   "cell_type": "code",
   "execution_count": 300,
   "id": "2b6a6913",
   "metadata": {},
   "outputs": [
    {
     "data": {
      "text/plain": [
       "<AxesSubplot:xlabel='Distance Travelled', ylabel='Density'>"
      ]
     },
     "execution_count": 300,
     "metadata": {},
     "output_type": "execute_result"
    },
    {
     "data": {
      "image/png": "[encoded data removed]",
      "text/plain": [
       "<Figure size 432x288 with 1 Axes>"
      ]
     },
     "metadata": {
      "needs_background": "light"
     },
     "output_type": "display_data"
    }
   ],
   "source": [
    "sns.distplot(df['Distance Travelled'], kde=True)"
   ]
  },
  {
   "cell_type": "markdown",
   "id": "9aa03982",
   "metadata": {},
   "source": [
    "Data is not equally distributed and has skewness\n",
    "Maximum distance travelled is between 0 to 100000 km"
   ]
  },
  {
   "cell_type": "code",
   "execution_count": 306,
   "id": "33448386",
   "metadata": {},
   "outputs": [
    {
     "data": {
      "text/plain": [
       "<seaborn.axisgrid.FacetGrid at 0x178a713e0a0>"
      ]
     },
     "execution_count": 306,
     "metadata": {},
     "output_type": "execute_result"
    },
    {
     "data": {
      "text/plain": [
       "<Figure size 2160x720 with 0 Axes>"
      ]
     },
     "metadata": {},
     "output_type": "display_data"
    },
    {
     "data": {
      "image/png": "[encoded data removed]",
      "text/plain": [
       "<Figure size 360x360 with 1 Axes>"
      ]
     },
     "metadata": {
      "needs_background": "light"
     },
     "output_type": "display_data"
    }
   ],
   "source": [
    "plt.figure(figsize=(30,10))\n",
    "sns.displot(df['Car Name'])"
   ]
  },
  {
   "cell_type": "markdown",
   "id": "8942d6e9",
   "metadata": {},
   "source": [
    "Maximum cars are mid ranged which have higher count."
   ]
  },
  {
   "cell_type": "code",
   "execution_count": 303,
   "id": "b2a6895e",
   "metadata": {},
   "outputs": [
    {
     "data": {
      "text/plain": [
       "<AxesSubplot:xlabel='Variant', ylabel='count'>"
      ]
     },
     "execution_count": 303,
     "metadata": {},
     "output_type": "execute_result"
    },
    {
     "data": {
      "image/png": "[encoded data removed]",
      "text/plain": [
       "<Figure size 432x288 with 1 Axes>"
      ]
     },
     "metadata": {
      "needs_background": "light"
     },
     "output_type": "display_data"
    }
   ],
   "source": [
    "sns.countplot(df['Variant'])"
   ]
  },
  {
   "cell_type": "markdown",
   "id": "1c66c985",
   "metadata": {},
   "source": [
    "O value has higher values than 1 in Variant column"
   ]
  },
  {
   "cell_type": "code",
   "execution_count": 217,
   "id": "46198bc5",
   "metadata": {},
   "outputs": [
    {
     "data": {
      "text/plain": [
       "<AxesSubplot:xlabel='fuel type', ylabel='count'>"
      ]
     },
     "execution_count": 217,
     "metadata": {},
     "output_type": "execute_result"
    },
    {
     "data": {
      "image/png": "[encoded data removed]",
      "text/plain": [
       "<Figure size 432x288 with 1 Axes>"
      ]
     },
     "metadata": {
      "needs_background": "light"
     },
     "output_type": "display_data"
    }
   ],
   "source": [
    "sns.countplot(df['fuel type'])"
   ]
  },
  {
   "cell_type": "markdown",
   "id": "b51352e0",
   "metadata": {},
   "source": [
    "Fuel Type column has maximum value count of 1 which is Petrol."
   ]
  },
  {
   "cell_type": "code",
   "execution_count": 218,
   "id": "fd39dc0a",
   "metadata": {},
   "outputs": [
    {
     "data": {
      "text/plain": [
       "<AxesSubplot:xlabel='Number of Owners', ylabel='count'>"
      ]
     },
     "execution_count": 218,
     "metadata": {},
     "output_type": "execute_result"
    },
    {
     "data": {
      "image/png": "[encoded data removed]",
      "text/plain": [
       "<Figure size 432x288 with 1 Axes>"
      ]
     },
     "metadata": {
      "needs_background": "light"
     },
     "output_type": "display_data"
    }
   ],
   "source": [
    "sns.countplot(df['Number of Owners'])"
   ]
  },
  {
   "cell_type": "markdown",
   "id": "ffe83395",
   "metadata": {},
   "source": [
    "Number of Owners columns has maximum count of 1 owners."
   ]
  },
  {
   "cell_type": "code",
   "execution_count": 221,
   "id": "4f4f9a17",
   "metadata": {},
   "outputs": [
    {
     "data": {
      "text/plain": [
       "<AxesSubplot:xlabel='Model Year', ylabel='count'>"
      ]
     },
     "execution_count": 221,
     "metadata": {},
     "output_type": "execute_result"
    },
    {
     "data": {
      "image/png": "[encoded data removed]",
      "text/plain": [
       "<Figure size 1440x288 with 1 Axes>"
      ]
     },
     "metadata": {
      "needs_background": "light"
     },
     "output_type": "display_data"
    }
   ],
   "source": [
    "plt.figure(figsize=(20,4))\n",
    "sns.countplot(df['Model Year'])"
   ]
  },
  {
   "cell_type": "markdown",
   "id": "b3e84ae3",
   "metadata": {},
   "source": [
    "Maximum used cars are of 2017 year and after that its 2018 year."
   ]
  },
  {
   "cell_type": "code",
   "execution_count": 315,
   "id": "5450f4c0",
   "metadata": {},
   "outputs": [
    {
     "data": {
      "text/plain": [
       "<AxesSubplot:xlabel='Price', ylabel='Number of Owners'>"
      ]
     },
     "execution_count": 315,
     "metadata": {},
     "output_type": "execute_result"
    },
    {
     "data": {
      "image/png": "[encoded data removed]",
      "text/plain": [
       "<Figure size 1440x720 with 1 Axes>"
      ]
     },
     "metadata": {
      "needs_background": "light"
     },
     "output_type": "display_data"
    }
   ],
   "source": [
    "plt.figure(figsize=(20,10))\n",
    "sns.histplot(x = \"Price\", y = \"Number of Owners\", data = df)"
   ]
  },
  {
   "cell_type": "markdown",
   "id": "2c22eab8",
   "metadata": {},
   "source": [
    "Maximum cars are mid ranged and have 1 owner."
   ]
  },
  {
   "cell_type": "code",
   "execution_count": 331,
   "id": "130bd1ee",
   "metadata": {},
   "outputs": [
    {
     "data": {
      "text/plain": [
       "<AxesSubplot:xlabel='Price', ylabel='Variant'>"
      ]
     },
     "execution_count": 331,
     "metadata": {},
     "output_type": "execute_result"
    },
    {
     "data": {
      "image/png": "[encoded data removed]",
      "text/plain": [
       "<Figure size 432x288 with 1 Axes>"
      ]
     },
     "metadata": {
      "needs_background": "light"
     },
     "output_type": "display_data"
    }
   ],
   "source": [
    "sns.histplot(x = \"Price\", y = \"Variant\", data = df)"
   ]
  },
  {
   "cell_type": "markdown",
   "id": "59d605c5",
   "metadata": {},
   "source": [
    "Maximum car variant are manual which are ranged in mid range prices."
   ]
  },
  {
   "cell_type": "code",
   "execution_count": 332,
   "id": "dc70e12c",
   "metadata": {},
   "outputs": [
    {
     "data": {
      "text/plain": [
       "<AxesSubplot:xlabel='Price', ylabel='fuel type'>"
      ]
     },
     "execution_count": 332,
     "metadata": {},
     "output_type": "execute_result"
    },
    {
     "data": {
      "image/png": "[encoded data removed]",
      "text/plain": [
       "<Figure size 432x288 with 1 Axes>"
      ]
     },
     "metadata": {
      "needs_background": "light"
     },
     "output_type": "display_data"
    }
   ],
   "source": [
    "sns.histplot(x = \"Price\", y = \"fuel type\", data = df)"
   ]
  },
  {
   "cell_type": "markdown",
   "id": "2913b13c",
   "metadata": {},
   "source": [
    "mid range petrol cars have higher demand."
   ]
  },
  {
   "cell_type": "code",
   "execution_count": 333,
   "id": "07bb052c",
   "metadata": {},
   "outputs": [
    {
     "data": {
      "text/plain": [
       "<AxesSubplot:xlabel='Model Year', ylabel='fuel type'>"
      ]
     },
     "execution_count": 333,
     "metadata": {},
     "output_type": "execute_result"
    },
    {
     "data": {
      "image/png": "[encoded data removed]",
      "text/plain": [
       "<Figure size 432x288 with 1 Axes>"
      ]
     },
     "metadata": {
      "needs_background": "light"
     },
     "output_type": "display_data"
    }
   ],
   "source": [
    "sns.histplot(x = \"Model Year\", y = \"fuel type\", data = df)"
   ]
  },
  {
   "cell_type": "markdown",
   "id": "1035fbff",
   "metadata": {},
   "source": [
    "car model between 2015 to 2020 of petrol fuel have higher demand."
   ]
  },
  {
   "cell_type": "markdown",
   "id": "b29af5f0",
   "metadata": {},
   "source": [
    "## Encoding"
   ]
  },
  {
   "cell_type": "code",
   "execution_count": 227,
   "id": "6a4960f0",
   "metadata": {},
   "outputs": [],
   "source": [
    "# Label Encoding for object to numeric datatype:\n",
    "from sklearn.preprocessing import LabelEncoder\n",
    "en= LabelEncoder()\n",
    "for i in df.columns:\n",
    "    if df[i].dtypes==\"object\":\n",
    "        df[i]=en.fit_transform(df[i].values.reshape(-1,1))"
   ]
  },
  {
   "cell_type": "code",
   "execution_count": 228,
   "id": "6afb816a",
   "metadata": {},
   "outputs": [
    {
     "data": {
      "text/html": [
       "<div>\n",
       "<style scoped>\n",
       "    .dataframe tbody tr th:only-of-type {\n",
       "        vertical-align: middle;\n",
       "    }\n",
       "\n",
       "    .dataframe tbody tr th {\n",
       "        vertical-align: top;\n",
       "    }\n",
       "\n",
       "    .dataframe thead th {\n",
       "        text-align: right;\n",
       "    }\n",
       "</style>\n",
       "<table border=\"1\" class=\"dataframe\">\n",
       "  <thead>\n",
       "    <tr style=\"text-align: right;\">\n",
       "      <th></th>\n",
       "      <th>Model Year</th>\n",
       "      <th>Brand</th>\n",
       "      <th>Car Name</th>\n",
       "      <th>Variant</th>\n",
       "      <th>Distance Travelled</th>\n",
       "      <th>Number of Owners</th>\n",
       "      <th>fuel type</th>\n",
       "      <th>Price</th>\n",
       "    </tr>\n",
       "  </thead>\n",
       "  <tbody>\n",
       "    <tr>\n",
       "      <th>0</th>\n",
       "      <td>2012</td>\n",
       "      <td>17</td>\n",
       "      <td>174</td>\n",
       "      <td>0</td>\n",
       "      <td>118117</td>\n",
       "      <td>1</td>\n",
       "      <td>0</td>\n",
       "      <td>316399</td>\n",
       "    </tr>\n",
       "    <tr>\n",
       "      <th>1</th>\n",
       "      <td>2016</td>\n",
       "      <td>24</td>\n",
       "      <td>106</td>\n",
       "      <td>0</td>\n",
       "      <td>46028</td>\n",
       "      <td>2</td>\n",
       "      <td>1</td>\n",
       "      <td>277599</td>\n",
       "    </tr>\n",
       "    <tr>\n",
       "      <th>2</th>\n",
       "      <td>2013</td>\n",
       "      <td>17</td>\n",
       "      <td>173</td>\n",
       "      <td>0</td>\n",
       "      <td>114506</td>\n",
       "      <td>1</td>\n",
       "      <td>0</td>\n",
       "      <td>341599</td>\n",
       "    </tr>\n",
       "    <tr>\n",
       "      <th>3</th>\n",
       "      <td>2014</td>\n",
       "      <td>17</td>\n",
       "      <td>145</td>\n",
       "      <td>0</td>\n",
       "      <td>43382</td>\n",
       "      <td>1</td>\n",
       "      <td>0</td>\n",
       "      <td>344199</td>\n",
       "    </tr>\n",
       "    <tr>\n",
       "      <th>4</th>\n",
       "      <td>2013</td>\n",
       "      <td>8</td>\n",
       "      <td>216</td>\n",
       "      <td>0</td>\n",
       "      <td>64361</td>\n",
       "      <td>1</td>\n",
       "      <td>0</td>\n",
       "      <td>355799</td>\n",
       "    </tr>\n",
       "  </tbody>\n",
       "</table>\n",
       "</div>"
      ],
      "text/plain": [
       "   Model Year  Brand  Car Name  Variant  Distance Travelled  Number of Owners  \\\n",
       "0        2012     17       174        0              118117                 1   \n",
       "1        2016     24       106        0               46028                 2   \n",
       "2        2013     17       173        0              114506                 1   \n",
       "3        2014     17       145        0               43382                 1   \n",
       "4        2013      8       216        0               64361                 1   \n",
       "\n",
       "   fuel type   Price  \n",
       "0          0  316399  \n",
       "1          1  277599  \n",
       "2          0  341599  \n",
       "3          0  344199  \n",
       "4          0  355799  "
      ]
     },
     "execution_count": 228,
     "metadata": {},
     "output_type": "execute_result"
    }
   ],
   "source": [
    "df.head()"
   ]
  },
  {
   "cell_type": "code",
   "execution_count": 229,
   "id": "4779666d",
   "metadata": {},
   "outputs": [
    {
     "data": {
      "text/html": [
       "<div>\n",
       "<style scoped>\n",
       "    .dataframe tbody tr th:only-of-type {\n",
       "        vertical-align: middle;\n",
       "    }\n",
       "\n",
       "    .dataframe tbody tr th {\n",
       "        vertical-align: top;\n",
       "    }\n",
       "\n",
       "    .dataframe thead th {\n",
       "        text-align: right;\n",
       "    }\n",
       "</style>\n",
       "<table border=\"1\" class=\"dataframe\">\n",
       "  <thead>\n",
       "    <tr style=\"text-align: right;\">\n",
       "      <th></th>\n",
       "      <th>Model Year</th>\n",
       "      <th>Brand</th>\n",
       "      <th>Car Name</th>\n",
       "      <th>Variant</th>\n",
       "      <th>Distance Travelled</th>\n",
       "      <th>Number of Owners</th>\n",
       "      <th>fuel type</th>\n",
       "      <th>Price</th>\n",
       "    </tr>\n",
       "  </thead>\n",
       "  <tbody>\n",
       "    <tr>\n",
       "      <th>count</th>\n",
       "      <td>7085.000000</td>\n",
       "      <td>7085.000000</td>\n",
       "      <td>7085.000000</td>\n",
       "      <td>7085.000000</td>\n",
       "      <td>7085.000000</td>\n",
       "      <td>7085.000000</td>\n",
       "      <td>7085.000000</td>\n",
       "      <td>7.085000e+03</td>\n",
       "    </tr>\n",
       "    <tr>\n",
       "      <th>mean</th>\n",
       "      <td>2015.734651</td>\n",
       "      <td>14.465914</td>\n",
       "      <td>104.983486</td>\n",
       "      <td>0.151306</td>\n",
       "      <td>49201.071560</td>\n",
       "      <td>1.265208</td>\n",
       "      <td>0.678476</td>\n",
       "      <td>6.158964e+05</td>\n",
       "    </tr>\n",
       "    <tr>\n",
       "      <th>std</th>\n",
       "      <td>2.798098</td>\n",
       "      <td>6.772489</td>\n",
       "      <td>68.481719</td>\n",
       "      <td>0.358372</td>\n",
       "      <td>34470.718501</td>\n",
       "      <td>0.471472</td>\n",
       "      <td>0.481382</td>\n",
       "      <td>4.264524e+05</td>\n",
       "    </tr>\n",
       "    <tr>\n",
       "      <th>min</th>\n",
       "      <td>1999.000000</td>\n",
       "      <td>0.000000</td>\n",
       "      <td>0.000000</td>\n",
       "      <td>0.000000</td>\n",
       "      <td>58.000000</td>\n",
       "      <td>1.000000</td>\n",
       "      <td>0.000000</td>\n",
       "      <td>5.000000e+04</td>\n",
       "    </tr>\n",
       "    <tr>\n",
       "      <th>25%</th>\n",
       "      <td>2014.000000</td>\n",
       "      <td>8.000000</td>\n",
       "      <td>44.000000</td>\n",
       "      <td>0.000000</td>\n",
       "      <td>23180.000000</td>\n",
       "      <td>1.000000</td>\n",
       "      <td>0.000000</td>\n",
       "      <td>3.850000e+05</td>\n",
       "    </tr>\n",
       "    <tr>\n",
       "      <th>50%</th>\n",
       "      <td>2016.000000</td>\n",
       "      <td>17.000000</td>\n",
       "      <td>84.000000</td>\n",
       "      <td>0.000000</td>\n",
       "      <td>42560.000000</td>\n",
       "      <td>1.000000</td>\n",
       "      <td>1.000000</td>\n",
       "      <td>5.158990e+05</td>\n",
       "    </tr>\n",
       "    <tr>\n",
       "      <th>75%</th>\n",
       "      <td>2018.000000</td>\n",
       "      <td>17.000000</td>\n",
       "      <td>173.000000</td>\n",
       "      <td>0.000000</td>\n",
       "      <td>68000.000000</td>\n",
       "      <td>2.000000</td>\n",
       "      <td>1.000000</td>\n",
       "      <td>7.179990e+05</td>\n",
       "    </tr>\n",
       "    <tr>\n",
       "      <th>max</th>\n",
       "      <td>2021.000000</td>\n",
       "      <td>30.000000</td>\n",
       "      <td>217.000000</td>\n",
       "      <td>1.000000</td>\n",
       "      <td>308000.000000</td>\n",
       "      <td>4.000000</td>\n",
       "      <td>4.000000</td>\n",
       "      <td>7.900000e+06</td>\n",
       "    </tr>\n",
       "  </tbody>\n",
       "</table>\n",
       "</div>"
      ],
      "text/plain": [
       "        Model Year        Brand     Car Name      Variant  Distance Travelled  \\\n",
       "count  7085.000000  7085.000000  7085.000000  7085.000000         7085.000000   \n",
       "mean   2015.734651    14.465914   104.983486     0.151306        49201.071560   \n",
       "std       2.798098     6.772489    68.481719     0.358372        34470.718501   \n",
       "min    1999.000000     0.000000     0.000000     0.000000           58.000000   \n",
       "25%    2014.000000     8.000000    44.000000     0.000000        23180.000000   \n",
       "50%    2016.000000    17.000000    84.000000     0.000000        42560.000000   \n",
       "75%    2018.000000    17.000000   173.000000     0.000000        68000.000000   \n",
       "max    2021.000000    30.000000   217.000000     1.000000       308000.000000   \n",
       "\n",
       "       Number of Owners    fuel type         Price  \n",
       "count       7085.000000  7085.000000  7.085000e+03  \n",
       "mean           1.265208     0.678476  6.158964e+05  \n",
       "std            0.471472     0.481382  4.264524e+05  \n",
       "min            1.000000     0.000000  5.000000e+04  \n",
       "25%            1.000000     0.000000  3.850000e+05  \n",
       "50%            1.000000     1.000000  5.158990e+05  \n",
       "75%            2.000000     1.000000  7.179990e+05  \n",
       "max            4.000000     4.000000  7.900000e+06  "
      ]
     },
     "execution_count": 229,
     "metadata": {},
     "output_type": "execute_result"
    }
   ],
   "source": [
    "# describing dataset:\n",
    "\n",
    "df.describe()"
   ]
  },
  {
   "cell_type": "markdown",
   "id": "b3da60a9",
   "metadata": {},
   "source": [
    "Key Observations:\n",
    "\n",
    "    1. Mean and Median: Values of mean is greater than median so skewness is present.\n",
    "    2. 75% percentile and max have differences so Price, Distance travelled and model columns have outliers.\n",
    "    3. Standard deviation is less than mean so high peak data."
   ]
  },
  {
   "cell_type": "code",
   "execution_count": 230,
   "id": "a2ffa272",
   "metadata": {},
   "outputs": [
    {
     "data": {
      "text/html": [
       "<div>\n",
       "<style scoped>\n",
       "    .dataframe tbody tr th:only-of-type {\n",
       "        vertical-align: middle;\n",
       "    }\n",
       "\n",
       "    .dataframe tbody tr th {\n",
       "        vertical-align: top;\n",
       "    }\n",
       "\n",
       "    .dataframe thead th {\n",
       "        text-align: right;\n",
       "    }\n",
       "</style>\n",
       "<table border=\"1\" class=\"dataframe\">\n",
       "  <thead>\n",
       "    <tr style=\"text-align: right;\">\n",
       "      <th></th>\n",
       "      <th>Model Year</th>\n",
       "      <th>Brand</th>\n",
       "      <th>Car Name</th>\n",
       "      <th>Variant</th>\n",
       "      <th>Distance Travelled</th>\n",
       "      <th>Number of Owners</th>\n",
       "      <th>fuel type</th>\n",
       "      <th>Price</th>\n",
       "    </tr>\n",
       "  </thead>\n",
       "  <tbody>\n",
       "    <tr>\n",
       "      <th>Model Year</th>\n",
       "      <td>1.000000</td>\n",
       "      <td>0.016604</td>\n",
       "      <td>-0.151726</td>\n",
       "      <td>0.046097</td>\n",
       "      <td>-0.497427</td>\n",
       "      <td>-0.307040</td>\n",
       "      <td>0.087461</td>\n",
       "      <td>0.335092</td>\n",
       "    </tr>\n",
       "    <tr>\n",
       "      <th>Brand</th>\n",
       "      <td>0.016604</td>\n",
       "      <td>1.000000</td>\n",
       "      <td>0.105454</td>\n",
       "      <td>-0.006017</td>\n",
       "      <td>0.071893</td>\n",
       "      <td>-0.039234</td>\n",
       "      <td>-0.062249</td>\n",
       "      <td>-0.052796</td>\n",
       "    </tr>\n",
       "    <tr>\n",
       "      <th>Car Name</th>\n",
       "      <td>-0.151726</td>\n",
       "      <td>0.105454</td>\n",
       "      <td>1.000000</td>\n",
       "      <td>-0.031068</td>\n",
       "      <td>0.090552</td>\n",
       "      <td>0.012972</td>\n",
       "      <td>-0.160521</td>\n",
       "      <td>-0.009165</td>\n",
       "    </tr>\n",
       "    <tr>\n",
       "      <th>Variant</th>\n",
       "      <td>0.046097</td>\n",
       "      <td>-0.006017</td>\n",
       "      <td>-0.031068</td>\n",
       "      <td>1.000000</td>\n",
       "      <td>-0.018355</td>\n",
       "      <td>0.097497</td>\n",
       "      <td>0.005461</td>\n",
       "      <td>0.388513</td>\n",
       "    </tr>\n",
       "    <tr>\n",
       "      <th>Distance Travelled</th>\n",
       "      <td>-0.497427</td>\n",
       "      <td>0.071893</td>\n",
       "      <td>0.090552</td>\n",
       "      <td>-0.018355</td>\n",
       "      <td>1.000000</td>\n",
       "      <td>0.150935</td>\n",
       "      <td>-0.426643</td>\n",
       "      <td>-0.060170</td>\n",
       "    </tr>\n",
       "    <tr>\n",
       "      <th>Number of Owners</th>\n",
       "      <td>-0.307040</td>\n",
       "      <td>-0.039234</td>\n",
       "      <td>0.012972</td>\n",
       "      <td>0.097497</td>\n",
       "      <td>0.150935</td>\n",
       "      <td>1.000000</td>\n",
       "      <td>-0.031631</td>\n",
       "      <td>-0.028314</td>\n",
       "    </tr>\n",
       "    <tr>\n",
       "      <th>fuel type</th>\n",
       "      <td>0.087461</td>\n",
       "      <td>-0.062249</td>\n",
       "      <td>-0.160521</td>\n",
       "      <td>0.005461</td>\n",
       "      <td>-0.426643</td>\n",
       "      <td>-0.031631</td>\n",
       "      <td>1.000000</td>\n",
       "      <td>-0.275771</td>\n",
       "    </tr>\n",
       "    <tr>\n",
       "      <th>Price</th>\n",
       "      <td>0.335092</td>\n",
       "      <td>-0.052796</td>\n",
       "      <td>-0.009165</td>\n",
       "      <td>0.388513</td>\n",
       "      <td>-0.060170</td>\n",
       "      <td>-0.028314</td>\n",
       "      <td>-0.275771</td>\n",
       "      <td>1.000000</td>\n",
       "    </tr>\n",
       "  </tbody>\n",
       "</table>\n",
       "</div>"
      ],
      "text/plain": [
       "                    Model Year     Brand  Car Name   Variant  \\\n",
       "Model Year            1.000000  0.016604 -0.151726  0.046097   \n",
       "Brand                 0.016604  1.000000  0.105454 -0.006017   \n",
       "Car Name             -0.151726  0.105454  1.000000 -0.031068   \n",
       "Variant               0.046097 -0.006017 -0.031068  1.000000   \n",
       "Distance Travelled   -0.497427  0.071893  0.090552 -0.018355   \n",
       "Number of Owners     -0.307040 -0.039234  0.012972  0.097497   \n",
       "fuel type             0.087461 -0.062249 -0.160521  0.005461   \n",
       "Price                 0.335092 -0.052796 -0.009165  0.388513   \n",
       "\n",
       "                    Distance Travelled  Number of Owners  fuel type     Price  \n",
       "Model Year                   -0.497427         -0.307040   0.087461  0.335092  \n",
       "Brand                         0.071893         -0.039234  -0.062249 -0.052796  \n",
       "Car Name                      0.090552          0.012972  -0.160521 -0.009165  \n",
       "Variant                      -0.018355          0.097497   0.005461  0.388513  \n",
       "Distance Travelled            1.000000          0.150935  -0.426643 -0.060170  \n",
       "Number of Owners              0.150935          1.000000  -0.031631 -0.028314  \n",
       "fuel type                    -0.426643         -0.031631   1.000000 -0.275771  \n",
       "Price                        -0.060170         -0.028314  -0.275771  1.000000  "
      ]
     },
     "execution_count": 230,
     "metadata": {},
     "output_type": "execute_result"
    }
   ],
   "source": [
    "# correlation of target label with feature columns\n",
    "df.corr()"
   ]
  },
  {
   "cell_type": "code",
   "execution_count": 231,
   "id": "fa388210",
   "metadata": {},
   "outputs": [
    {
     "data": {
      "text/plain": [
       "<AxesSubplot:>"
      ]
     },
     "execution_count": 231,
     "metadata": {},
     "output_type": "execute_result"
    },
    {
     "data": {
      "image/png": "[encoded data removed]",
      "text/plain": [
       "<Figure size 720x504 with 2 Axes>"
      ]
     },
     "metadata": {
      "needs_background": "light"
     },
     "output_type": "display_data"
    }
   ],
   "source": [
    "# Heatmap of Correlation\n",
    "\n",
    "plt.figure(figsize=(10,7))\n",
    "sns.heatmap(df.corr(),annot=True,linewidths=0.1,linecolor=\"Black\",fmt=\"0.2f\")"
   ]
  },
  {
   "attachments": {},
   "cell_type": "markdown",
   "id": "45cfe91d",
   "metadata": {},
   "source": [
    "Key Observation:\n",
    " 1. Price have positive correlation with Variant and negative correlation with fuel type.\n",
    " 2. Variant has positive correlation with Price and negative correlation with Car Name."
   ]
  },
  {
   "cell_type": "code",
   "execution_count": 232,
   "id": "02de66d7",
   "metadata": {},
   "outputs": [
    {
     "data": {
      "text/plain": [
       "Model Year                AxesSubplot(0.125,0.71587;0.110714x0.16413)\n",
       "Brand                  AxesSubplot(0.257857,0.71587;0.110714x0.16413)\n",
       "Car Name               AxesSubplot(0.390714,0.71587;0.110714x0.16413)\n",
       "Variant                AxesSubplot(0.523571,0.71587;0.110714x0.16413)\n",
       "Distance Travelled     AxesSubplot(0.656429,0.71587;0.110714x0.16413)\n",
       "Number of Owners       AxesSubplot(0.789286,0.71587;0.110714x0.16413)\n",
       "fuel type                AxesSubplot(0.125,0.518913;0.110714x0.16413)\n",
       "Price                 AxesSubplot(0.257857,0.518913;0.110714x0.16413)\n",
       "dtype: object"
      ]
     },
     "execution_count": 232,
     "metadata": {},
     "output_type": "execute_result"
    },
    {
     "data": {
      "image/png": "[encoded data removed]",
      "text/plain": [
       "<Figure size 720x720 with 24 Axes>"
      ]
     },
     "metadata": {
      "needs_background": "light"
     },
     "output_type": "display_data"
    }
   ],
   "source": [
    "#Outliers:\n",
    "\n",
    "df.plot(kind='box',subplots=True,layout=(4,6),figsize=(10,10))"
   ]
  },
  {
   "attachments": {},
   "cell_type": "markdown",
   "id": "30ecd249",
   "metadata": {},
   "source": [
    "Price, Distance travelled and model year have outliers"
   ]
  },
  {
   "cell_type": "code",
   "execution_count": 233,
   "id": "d51c61f1",
   "metadata": {},
   "outputs": [
    {
     "data": {
      "text/plain": [
       "(array([  46,   73,   96,   97,  120,  131,  132,  149,  159,  173,  195,\n",
       "         231,  320,  402,  411,  437,  462,  475,  544,  652,  663,  674,\n",
       "         697,  727,  727,  783,  813,  939, 1041, 1053, 1078, 1099, 1119,\n",
       "        1136, 1189, 1213, 1223, 1225, 1340, 1346, 1358, 1447, 1462, 1473,\n",
       "        1475, 1482, 1488, 1515, 1555, 1581, 1590, 1632, 1637, 1696, 1698,\n",
       "        1701, 1727, 1738, 1801, 1838, 1894, 1922, 1939, 1953, 2015, 2039,\n",
       "        2058, 2059, 2090, 2091, 2107, 2116, 2129, 2149, 2183, 2262, 2341,\n",
       "        2356, 2390, 2422, 2439, 2602, 2610, 2614, 2742, 2766, 2865, 2869,\n",
       "        2888, 2925, 2958, 2976, 2982, 3001, 3033, 3086, 3135, 3155, 3208,\n",
       "        3344, 3358, 3382, 3385, 3386, 3394, 3410, 3411, 3429, 3432, 3435,\n",
       "        3456, 3462, 3463, 3465, 3471, 3479, 3489, 3690, 3705, 3749, 3776,\n",
       "        3800, 3801, 3823, 3837, 3839, 3856, 3861, 3873, 3882, 3893, 3912,\n",
       "        3951, 4180, 4222, 4246, 4543, 4554, 4577, 4606, 4607, 4609, 4615,\n",
       "        4630, 4632, 4633, 4740, 4754, 4781, 4782, 4790, 4805, 4806, 4829,\n",
       "        4866, 4899, 4917, 4923, 4941, 5011, 5015, 5068, 5157, 5181, 5222,\n",
       "        5241, 5293, 5344, 5364, 5384, 5386, 5389, 5393, 5401, 5416, 5421,\n",
       "        5422, 5476, 5477, 5481, 5496, 5497, 5501, 5508, 5515, 5517, 5520,\n",
       "        5534, 5542, 5545, 5554, 5560, 5566, 5570, 5576, 5581, 5582, 5589,\n",
       "        5609, 5612, 5614, 5772, 5911, 5913, 5984, 5987, 5988, 5991, 5992,\n",
       "        5993, 6004, 6007, 6008, 6011, 6012, 6013, 6024, 6027, 6028, 6031,\n",
       "        6032, 6033, 6035, 6036, 6037, 6038, 6062, 6068, 6073, 6084, 6090,\n",
       "        6101, 6105, 6106, 6108, 6115, 6116, 6123, 6129, 6130, 6133, 6133,\n",
       "        6141, 6143, 6171, 6178, 6180, 6182, 6189, 6191, 6197, 6209, 6210,\n",
       "        6211, 6217, 6218, 6220, 6227, 6234, 6249, 6252, 6258, 6259, 6262,\n",
       "        6275, 6397, 6425, 6426, 6428, 6432, 6434, 6466, 6467, 6482, 6498,\n",
       "        6508, 6510, 6513, 6517, 6519, 6523, 6525, 6526, 6527, 6538, 6543,\n",
       "        6551, 6571, 6588, 6595, 6598, 6599, 6607, 6611, 6614, 6630, 6632,\n",
       "        6669, 6670, 6671, 6672, 6679, 6705, 6708, 6723, 6735, 6743, 6767,\n",
       "        6769, 6770, 6810, 6812, 6822, 6828, 6837, 6842, 6843, 6855, 6860,\n",
       "        6878, 6881, 6884, 6897, 6907, 6909, 6910, 6911, 6913, 6929, 6932,\n",
       "        6934, 6934, 6942, 6944, 6952, 6953, 6956, 6956, 6976, 6991, 6999,\n",
       "        7006, 7014, 7016, 7028, 7030, 7038, 7045, 7049, 7066, 7070, 7070,\n",
       "        7076], dtype=int64),\n",
       " array([4, 4, 5, 7, 5, 4, 7, 4, 4, 4, 5, 4, 4, 5, 5, 4, 5, 5, 5, 5, 5, 7,\n",
       "        5, 4, 5, 4, 4, 4, 4, 5, 5, 7, 5, 5, 4, 5, 5, 5, 5, 4, 5, 5, 5, 4,\n",
       "        4, 5, 4, 7, 4, 4, 5, 5, 5, 4, 4, 5, 5, 4, 5, 5, 4, 5, 5, 5, 4, 4,\n",
       "        5, 7, 4, 7, 4, 4, 4, 5, 4, 4, 5, 5, 4, 5, 5, 4, 5, 4, 4, 4, 5, 7,\n",
       "        5, 7, 4, 7, 5, 5, 7, 5, 4, 4, 5, 5, 5, 5, 5, 7, 5, 5, 5, 4, 5, 5,\n",
       "        5, 4, 5, 4, 7, 7, 5, 4, 7, 4, 4, 5, 7, 5, 4, 7, 5, 4, 4, 4, 5, 5,\n",
       "        4, 5, 5, 4, 4, 7, 5, 4, 5, 4, 7, 5, 7, 5, 5, 5, 5, 7, 5, 5, 5, 5,\n",
       "        7, 4, 7, 5, 5, 5, 7, 5, 4, 4, 5, 7, 5, 4, 4, 4, 0, 7, 0, 7, 0, 4,\n",
       "        7, 7, 7, 0, 7, 7, 0, 4, 4, 0, 0, 4, 0, 4, 4, 7, 7, 7, 7, 4, 7, 0,\n",
       "        4, 7, 7, 7, 7, 7, 7, 0, 0, 0, 0, 0, 7, 0, 0, 0, 0, 0, 7, 0, 0, 0,\n",
       "        0, 0, 7, 0, 0, 0, 7, 7, 0, 7, 0, 4, 7, 7, 7, 7, 7, 0, 0, 0, 0, 4,\n",
       "        7, 4, 0, 0, 0, 0, 0, 0, 0, 7, 7, 7, 7, 7, 7, 0, 7, 0, 7, 0, 4, 7,\n",
       "        0, 7, 0, 7, 7, 7, 7, 7, 7, 7, 0, 4, 4, 4, 4, 0, 4, 6, 4, 0, 0, 0,\n",
       "        4, 7, 7, 7, 7, 6, 0, 0, 7, 7, 4, 0, 7, 7, 7, 7, 7, 4, 0, 7, 7, 7,\n",
       "        0, 7, 4, 7, 0, 7, 0, 4, 0, 0, 4, 0, 4, 0, 7, 7, 0, 0, 7, 7, 7, 0,\n",
       "        0, 6, 7, 7, 0, 0, 0, 4, 4, 7, 0, 0, 7, 0, 6, 7, 0, 7, 0, 4, 0, 4,\n",
       "        7], dtype=int64))"
      ]
     },
     "execution_count": 233,
     "metadata": {},
     "output_type": "execute_result"
    }
   ],
   "source": [
    "# Removing Outliers: \n",
    "\n",
    "from scipy.stats import zscore\n",
    "import numpy as np\n",
    "z=np.abs(zscore(df))\n",
    "threshold=3\n",
    "np.where(z>3)"
   ]
  },
  {
   "cell_type": "code",
   "execution_count": 234,
   "id": "df8e55ac",
   "metadata": {},
   "outputs": [
    {
     "data": {
      "text/html": [
       "<div>\n",
       "<style scoped>\n",
       "    .dataframe tbody tr th:only-of-type {\n",
       "        vertical-align: middle;\n",
       "    }\n",
       "\n",
       "    .dataframe tbody tr th {\n",
       "        vertical-align: top;\n",
       "    }\n",
       "\n",
       "    .dataframe thead th {\n",
       "        text-align: right;\n",
       "    }\n",
       "</style>\n",
       "<table border=\"1\" class=\"dataframe\">\n",
       "  <thead>\n",
       "    <tr style=\"text-align: right;\">\n",
       "      <th></th>\n",
       "      <th>Model Year</th>\n",
       "      <th>Brand</th>\n",
       "      <th>Car Name</th>\n",
       "      <th>Variant</th>\n",
       "      <th>Distance Travelled</th>\n",
       "      <th>Number of Owners</th>\n",
       "      <th>fuel type</th>\n",
       "      <th>Price</th>\n",
       "    </tr>\n",
       "  </thead>\n",
       "  <tbody>\n",
       "    <tr>\n",
       "      <th>0</th>\n",
       "      <td>2012</td>\n",
       "      <td>17</td>\n",
       "      <td>174</td>\n",
       "      <td>0</td>\n",
       "      <td>118117</td>\n",
       "      <td>1</td>\n",
       "      <td>0</td>\n",
       "      <td>316399</td>\n",
       "    </tr>\n",
       "    <tr>\n",
       "      <th>1</th>\n",
       "      <td>2016</td>\n",
       "      <td>24</td>\n",
       "      <td>106</td>\n",
       "      <td>0</td>\n",
       "      <td>46028</td>\n",
       "      <td>2</td>\n",
       "      <td>1</td>\n",
       "      <td>277599</td>\n",
       "    </tr>\n",
       "    <tr>\n",
       "      <th>2</th>\n",
       "      <td>2013</td>\n",
       "      <td>17</td>\n",
       "      <td>173</td>\n",
       "      <td>0</td>\n",
       "      <td>114506</td>\n",
       "      <td>1</td>\n",
       "      <td>0</td>\n",
       "      <td>341599</td>\n",
       "    </tr>\n",
       "    <tr>\n",
       "      <th>3</th>\n",
       "      <td>2014</td>\n",
       "      <td>17</td>\n",
       "      <td>145</td>\n",
       "      <td>0</td>\n",
       "      <td>43382</td>\n",
       "      <td>1</td>\n",
       "      <td>0</td>\n",
       "      <td>344199</td>\n",
       "    </tr>\n",
       "    <tr>\n",
       "      <th>4</th>\n",
       "      <td>2013</td>\n",
       "      <td>8</td>\n",
       "      <td>216</td>\n",
       "      <td>0</td>\n",
       "      <td>64361</td>\n",
       "      <td>1</td>\n",
       "      <td>0</td>\n",
       "      <td>355799</td>\n",
       "    </tr>\n",
       "    <tr>\n",
       "      <th>...</th>\n",
       "      <td>...</td>\n",
       "      <td>...</td>\n",
       "      <td>...</td>\n",
       "      <td>...</td>\n",
       "      <td>...</td>\n",
       "      <td>...</td>\n",
       "      <td>...</td>\n",
       "      <td>...</td>\n",
       "    </tr>\n",
       "    <tr>\n",
       "      <th>7080</th>\n",
       "      <td>2017</td>\n",
       "      <td>7</td>\n",
       "      <td>31</td>\n",
       "      <td>1</td>\n",
       "      <td>27500</td>\n",
       "      <td>2</td>\n",
       "      <td>1</td>\n",
       "      <td>600000</td>\n",
       "    </tr>\n",
       "    <tr>\n",
       "      <th>7081</th>\n",
       "      <td>2014</td>\n",
       "      <td>13</td>\n",
       "      <td>147</td>\n",
       "      <td>1</td>\n",
       "      <td>80000</td>\n",
       "      <td>2</td>\n",
       "      <td>0</td>\n",
       "      <td>1850000</td>\n",
       "    </tr>\n",
       "    <tr>\n",
       "      <th>7082</th>\n",
       "      <td>2012</td>\n",
       "      <td>5</td>\n",
       "      <td>70</td>\n",
       "      <td>0</td>\n",
       "      <td>65000</td>\n",
       "      <td>2</td>\n",
       "      <td>0</td>\n",
       "      <td>210999</td>\n",
       "    </tr>\n",
       "    <tr>\n",
       "      <th>7083</th>\n",
       "      <td>2012</td>\n",
       "      <td>7</td>\n",
       "      <td>44</td>\n",
       "      <td>1</td>\n",
       "      <td>87792</td>\n",
       "      <td>2</td>\n",
       "      <td>1</td>\n",
       "      <td>425000</td>\n",
       "    </tr>\n",
       "    <tr>\n",
       "      <th>7084</th>\n",
       "      <td>2013</td>\n",
       "      <td>0</td>\n",
       "      <td>10</td>\n",
       "      <td>1</td>\n",
       "      <td>90004</td>\n",
       "      <td>2</td>\n",
       "      <td>0</td>\n",
       "      <td>1500000</td>\n",
       "    </tr>\n",
       "  </tbody>\n",
       "</table>\n",
       "<p>6737 rows × 8 columns</p>\n",
       "</div>"
      ],
      "text/plain": [
       "      Model Year  Brand  Car Name  Variant  Distance Travelled  \\\n",
       "0           2012     17       174        0              118117   \n",
       "1           2016     24       106        0               46028   \n",
       "2           2013     17       173        0              114506   \n",
       "3           2014     17       145        0               43382   \n",
       "4           2013      8       216        0               64361   \n",
       "...          ...    ...       ...      ...                 ...   \n",
       "7080        2017      7        31        1               27500   \n",
       "7081        2014     13       147        1               80000   \n",
       "7082        2012      5        70        0               65000   \n",
       "7083        2012      7        44        1               87792   \n",
       "7084        2013      0        10        1               90004   \n",
       "\n",
       "      Number of Owners  fuel type    Price  \n",
       "0                    1          0   316399  \n",
       "1                    2          1   277599  \n",
       "2                    1          0   341599  \n",
       "3                    1          0   344199  \n",
       "4                    1          0   355799  \n",
       "...                ...        ...      ...  \n",
       "7080                 2          1   600000  \n",
       "7081                 2          0  1850000  \n",
       "7082                 2          0   210999  \n",
       "7083                 2          1   425000  \n",
       "7084                 2          0  1500000  \n",
       "\n",
       "[6737 rows x 8 columns]"
      ]
     },
     "execution_count": 234,
     "metadata": {},
     "output_type": "execute_result"
    }
   ],
   "source": [
    "#removing value greater than threshold value \n",
    "\n",
    "df_new=df[(z<3).all(axis=1)]\n",
    "df_new"
   ]
  },
  {
   "cell_type": "code",
   "execution_count": 235,
   "id": "83534dc5",
   "metadata": {},
   "outputs": [],
   "source": [
    "df=df_new"
   ]
  },
  {
   "cell_type": "code",
   "execution_count": 236,
   "id": "4989465f",
   "metadata": {},
   "outputs": [
    {
     "data": {
      "text/plain": [
       "(6737, 8)"
      ]
     },
     "execution_count": 236,
     "metadata": {},
     "output_type": "execute_result"
    }
   ],
   "source": [
    "df.shape"
   ]
  },
  {
   "cell_type": "markdown",
   "id": "6f6c1390",
   "metadata": {},
   "source": [
    "New Rows: 6737 and Columns: 8"
   ]
  },
  {
   "cell_type": "markdown",
   "id": "6d828f16",
   "metadata": {},
   "source": [
    "#### Percentage Loss of data"
   ]
  },
  {
   "cell_type": "code",
   "execution_count": 313,
   "id": "12f99136",
   "metadata": {},
   "outputs": [
    {
     "data": {
      "text/plain": [
       "4.911785462244178"
      ]
     },
     "execution_count": 313,
     "metadata": {},
     "output_type": "execute_result"
    }
   ],
   "source": [
    "Data_loss=((7085-6737)/7085)*100\n",
    "Data_loss"
   ]
  },
  {
   "cell_type": "markdown",
   "id": "675727a8",
   "metadata": {},
   "source": [
    "4.9% data lost."
   ]
  },
  {
   "cell_type": "markdown",
   "id": "f5bdc687",
   "metadata": {},
   "source": [
    "## Separating Target and feature variables"
   ]
  },
  {
   "cell_type": "code",
   "execution_count": 237,
   "id": "79955b6f",
   "metadata": {},
   "outputs": [],
   "source": [
    "x =df.drop(\"Price\",axis=1)  # Feature column\n",
    "y =df[\"Price\"]              # Target column"
   ]
  },
  {
   "cell_type": "code",
   "execution_count": 238,
   "id": "708490cf",
   "metadata": {},
   "outputs": [
    {
     "data": {
      "text/html": [
       "<div>\n",
       "<style scoped>\n",
       "    .dataframe tbody tr th:only-of-type {\n",
       "        vertical-align: middle;\n",
       "    }\n",
       "\n",
       "    .dataframe tbody tr th {\n",
       "        vertical-align: top;\n",
       "    }\n",
       "\n",
       "    .dataframe thead th {\n",
       "        text-align: right;\n",
       "    }\n",
       "</style>\n",
       "<table border=\"1\" class=\"dataframe\">\n",
       "  <thead>\n",
       "    <tr style=\"text-align: right;\">\n",
       "      <th></th>\n",
       "      <th>Model Year</th>\n",
       "      <th>Brand</th>\n",
       "      <th>Car Name</th>\n",
       "      <th>Variant</th>\n",
       "      <th>Distance Travelled</th>\n",
       "      <th>Number of Owners</th>\n",
       "      <th>fuel type</th>\n",
       "    </tr>\n",
       "  </thead>\n",
       "  <tbody>\n",
       "    <tr>\n",
       "      <th>0</th>\n",
       "      <td>2012</td>\n",
       "      <td>17</td>\n",
       "      <td>174</td>\n",
       "      <td>0</td>\n",
       "      <td>118117</td>\n",
       "      <td>1</td>\n",
       "      <td>0</td>\n",
       "    </tr>\n",
       "    <tr>\n",
       "      <th>1</th>\n",
       "      <td>2016</td>\n",
       "      <td>24</td>\n",
       "      <td>106</td>\n",
       "      <td>0</td>\n",
       "      <td>46028</td>\n",
       "      <td>2</td>\n",
       "      <td>1</td>\n",
       "    </tr>\n",
       "    <tr>\n",
       "      <th>2</th>\n",
       "      <td>2013</td>\n",
       "      <td>17</td>\n",
       "      <td>173</td>\n",
       "      <td>0</td>\n",
       "      <td>114506</td>\n",
       "      <td>1</td>\n",
       "      <td>0</td>\n",
       "    </tr>\n",
       "    <tr>\n",
       "      <th>3</th>\n",
       "      <td>2014</td>\n",
       "      <td>17</td>\n",
       "      <td>145</td>\n",
       "      <td>0</td>\n",
       "      <td>43382</td>\n",
       "      <td>1</td>\n",
       "      <td>0</td>\n",
       "    </tr>\n",
       "    <tr>\n",
       "      <th>4</th>\n",
       "      <td>2013</td>\n",
       "      <td>8</td>\n",
       "      <td>216</td>\n",
       "      <td>0</td>\n",
       "      <td>64361</td>\n",
       "      <td>1</td>\n",
       "      <td>0</td>\n",
       "    </tr>\n",
       "  </tbody>\n",
       "</table>\n",
       "</div>"
      ],
      "text/plain": [
       "   Model Year  Brand  Car Name  Variant  Distance Travelled  Number of Owners  \\\n",
       "0        2012     17       174        0              118117                 1   \n",
       "1        2016     24       106        0               46028                 2   \n",
       "2        2013     17       173        0              114506                 1   \n",
       "3        2014     17       145        0               43382                 1   \n",
       "4        2013      8       216        0               64361                 1   \n",
       "\n",
       "   fuel type  \n",
       "0          0  \n",
       "1          1  \n",
       "2          0  \n",
       "3          0  \n",
       "4          0  "
      ]
     },
     "execution_count": 238,
     "metadata": {},
     "output_type": "execute_result"
    }
   ],
   "source": [
    "x.head()"
   ]
  },
  {
   "cell_type": "code",
   "execution_count": 239,
   "id": "4e5cfd97",
   "metadata": {},
   "outputs": [
    {
     "data": {
      "text/plain": [
       "Model Year           -0.581017\n",
       "Brand                 0.293239\n",
       "Car Name              0.232942\n",
       "Variant               2.066930\n",
       "Distance Travelled    0.792001\n",
       "Number of Owners      1.254373\n",
       "fuel type            -0.682410\n",
       "dtype: float64"
      ]
     },
     "execution_count": 239,
     "metadata": {},
     "output_type": "execute_result"
    }
   ],
   "source": [
    "# Skewness:\n",
    "\n",
    "x.skew()"
   ]
  },
  {
   "cell_type": "code",
   "execution_count": 240,
   "id": "694c9b20",
   "metadata": {},
   "outputs": [
    {
     "data": {
      "text/plain": [
       "array([[-1.46833394,  0.45387545,  0.99302523, ...,  1.86148584,\n",
       "        -0.55328691, -1.41810632],\n",
       "       [ 0.01950529,  1.36276979,  0.21310308, ...,  0.16726608,\n",
       "         1.80738055,  0.62658902],\n",
       "       [-1.10899709,  0.45387545,  0.98292723, ...,  1.79364821,\n",
       "        -0.55328691, -1.41810632],\n",
       "       ...,\n",
       "       [-1.46833394, -1.53803863, -0.3190552 , ...,  0.70726031,\n",
       "         1.80738055, -1.41810632],\n",
       "       [-1.46833394, -1.1389574 , -0.80761218, ...,  1.24990468,\n",
       "         1.80738055,  0.62658902],\n",
       "       [-1.10899709, -2.91305864, -1.82083729, ...,  1.29815781,\n",
       "         1.80738055, -1.41810632]])"
      ]
     },
     "execution_count": 240,
     "metadata": {},
     "output_type": "execute_result"
    }
   ],
   "source": [
    "# Using power_transform to remove skewness.\n",
    "from sklearn.preprocessing import power_transform\n",
    "x=power_transform(x,method='yeo-johnson')\n",
    "x"
   ]
  },
  {
   "cell_type": "code",
   "execution_count": 247,
   "id": "a851921b",
   "metadata": {},
   "outputs": [],
   "source": [
    "# converting ndarray to dataframe\n",
    "x=pd.DataFrame(x)"
   ]
  },
  {
   "cell_type": "code",
   "execution_count": 248,
   "id": "2aed5fef",
   "metadata": {},
   "outputs": [
    {
     "data": {
      "text/plain": [
       "0   -0.443363\n",
       "1   -0.067399\n",
       "2   -0.159029\n",
       "3    2.066930\n",
       "4   -0.065431\n",
       "5    1.254373\n",
       "6   -0.284076\n",
       "dtype: float64"
      ]
     },
     "execution_count": 248,
     "metadata": {},
     "output_type": "execute_result"
    }
   ],
   "source": [
    "x.skew()"
   ]
  },
  {
   "cell_type": "code",
   "execution_count": 249,
   "id": "f629ef21",
   "metadata": {},
   "outputs": [
    {
     "data": {
      "text/html": [
       "<div>\n",
       "<style scoped>\n",
       "    .dataframe tbody tr th:only-of-type {\n",
       "        vertical-align: middle;\n",
       "    }\n",
       "\n",
       "    .dataframe tbody tr th {\n",
       "        vertical-align: top;\n",
       "    }\n",
       "\n",
       "    .dataframe thead th {\n",
       "        text-align: right;\n",
       "    }\n",
       "</style>\n",
       "<table border=\"1\" class=\"dataframe\">\n",
       "  <thead>\n",
       "    <tr style=\"text-align: right;\">\n",
       "      <th></th>\n",
       "      <th>0</th>\n",
       "      <th>1</th>\n",
       "      <th>2</th>\n",
       "      <th>3</th>\n",
       "      <th>4</th>\n",
       "      <th>6</th>\n",
       "    </tr>\n",
       "  </thead>\n",
       "  <tbody>\n",
       "    <tr>\n",
       "      <th>0</th>\n",
       "      <td>-1.468334</td>\n",
       "      <td>0.453875</td>\n",
       "      <td>0.993025</td>\n",
       "      <td>-0.404671</td>\n",
       "      <td>1.861486</td>\n",
       "      <td>-1.418106</td>\n",
       "    </tr>\n",
       "    <tr>\n",
       "      <th>1</th>\n",
       "      <td>0.019505</td>\n",
       "      <td>1.362770</td>\n",
       "      <td>0.213103</td>\n",
       "      <td>-0.404671</td>\n",
       "      <td>0.167266</td>\n",
       "      <td>0.626589</td>\n",
       "    </tr>\n",
       "    <tr>\n",
       "      <th>2</th>\n",
       "      <td>-1.108997</td>\n",
       "      <td>0.453875</td>\n",
       "      <td>0.982927</td>\n",
       "      <td>-0.404671</td>\n",
       "      <td>1.793648</td>\n",
       "      <td>-1.418106</td>\n",
       "    </tr>\n",
       "    <tr>\n",
       "      <th>3</th>\n",
       "      <td>-0.741370</td>\n",
       "      <td>0.453875</td>\n",
       "      <td>0.685854</td>\n",
       "      <td>-0.404671</td>\n",
       "      <td>0.082668</td>\n",
       "      <td>-1.418106</td>\n",
       "    </tr>\n",
       "    <tr>\n",
       "      <th>4</th>\n",
       "      <td>-1.108997</td>\n",
       "      <td>-0.954011</td>\n",
       "      <td>1.391222</td>\n",
       "      <td>-0.404671</td>\n",
       "      <td>0.690625</td>\n",
       "      <td>-1.418106</td>\n",
       "    </tr>\n",
       "  </tbody>\n",
       "</table>\n",
       "</div>"
      ],
      "text/plain": [
       "          0         1         2         3         4         6\n",
       "0 -1.468334  0.453875  0.993025 -0.404671  1.861486 -1.418106\n",
       "1  0.019505  1.362770  0.213103 -0.404671  0.167266  0.626589\n",
       "2 -1.108997  0.453875  0.982927 -0.404671  1.793648 -1.418106\n",
       "3 -0.741370  0.453875  0.685854 -0.404671  0.082668 -1.418106\n",
       "4 -1.108997 -0.954011  1.391222 -0.404671  0.690625 -1.418106"
      ]
     },
     "execution_count": 249,
     "metadata": {},
     "output_type": "execute_result"
    }
   ],
   "source": [
    "#dropping column 5 as it has skewness and is negatively correlated with target column \n",
    "\n",
    "x.drop([5],axis=1,inplace=True)\n",
    "x.head()"
   ]
  },
  {
   "cell_type": "code",
   "execution_count": 250,
   "id": "15c0babb",
   "metadata": {},
   "outputs": [
    {
     "data": {
      "text/plain": [
       "array([[-1.46833394,  0.45387545,  0.99302523, -0.40467129,  1.86148584,\n",
       "        -1.41810632],\n",
       "       [ 0.01950529,  1.36276979,  0.21310308, -0.40467129,  0.16726608,\n",
       "         0.62658902],\n",
       "       [-1.10899709,  0.45387545,  0.98292723, -0.40467129,  1.79364821,\n",
       "        -1.41810632],\n",
       "       ...,\n",
       "       [-1.46833394, -1.53803863, -0.3190552 , -0.40467129,  0.70726031,\n",
       "        -1.41810632],\n",
       "       [-1.46833394, -1.1389574 , -0.80761218,  2.47114145,  1.24990468,\n",
       "         0.62658902],\n",
       "       [-1.10899709, -2.91305864, -1.82083729,  2.47114145,  1.29815781,\n",
       "        -1.41810632]])"
      ]
     },
     "execution_count": 250,
     "metadata": {},
     "output_type": "execute_result"
    }
   ],
   "source": [
    "## Scaling feature column:\n",
    "\n",
    "from sklearn.preprocessing import StandardScaler\n",
    "sc = StandardScaler()\n",
    "x=sc.fit_transform(x)\n",
    "x"
   ]
  },
  {
   "cell_type": "markdown",
   "id": "44e02eac",
   "metadata": {},
   "source": [
    "## Model Building"
   ]
  },
  {
   "cell_type": "code",
   "execution_count": 251,
   "id": "6207b1e8",
   "metadata": {},
   "outputs": [],
   "source": [
    "from sklearn.metrics import r2_score \n",
    "from sklearn.linear_model import LinearRegression\n",
    "lr=LinearRegression()\n",
    "from sklearn.metrics import mean_squared_error,mean_absolute_error\n",
    "from sklearn.metrics import accuracy_score\n",
    "from sklearn.model_selection import train_test_split\n",
    "\n",
    "import warnings\n",
    "warnings.filterwarnings('ignore')"
   ]
  },
  {
   "cell_type": "code",
   "execution_count": 252,
   "id": "640e1643",
   "metadata": {},
   "outputs": [
    {
     "name": "stdout",
     "output_type": "stream",
     "text": [
      "At random state 0,the training accuracy is:- 0.42461140627338956\n",
      "At random state 0,the testing accuracy is:- 0.4124918611995312\n",
      "\n",
      "\n",
      "At random state 1,the training accuracy is:- 0.4195016840775192\n",
      "At random state 1,the testing accuracy is:- 0.43340591128666794\n",
      "\n",
      "\n",
      "At random state 2,the training accuracy is:- 0.42682609490867474\n",
      "At random state 2,the testing accuracy is:- 0.40232452034094623\n",
      "\n",
      "\n",
      "At random state 3,the training accuracy is:- 0.4253059081758812\n",
      "At random state 3,the testing accuracy is:- 0.4092971793197224\n",
      "\n",
      "\n",
      "At random state 4,the training accuracy is:- 0.4219232998757756\n",
      "At random state 4,the testing accuracy is:- 0.4218300782803569\n",
      "\n",
      "\n",
      "At random state 5,the training accuracy is:- 0.41712725746498946\n",
      "At random state 5,the testing accuracy is:- 0.43330172522200683\n",
      "\n",
      "\n",
      "At random state 6,the training accuracy is:- 0.4170676206735888\n",
      "At random state 6,the testing accuracy is:- 0.44167217320799423\n",
      "\n",
      "\n",
      "At random state 7,the training accuracy is:- 0.42611702980643795\n",
      "At random state 7,the testing accuracy is:- 0.404996669648757\n",
      "\n",
      "\n",
      "At random state 8,the training accuracy is:- 0.42472564312433103\n",
      "At random state 8,the testing accuracy is:- 0.41188627192052507\n",
      "\n",
      "\n",
      "At random state 9,the training accuracy is:- 0.41432613338610935\n",
      "At random state 9,the testing accuracy is:- 0.4502431437679093\n",
      "\n",
      "\n",
      "At random state 10,the training accuracy is:- 0.42954678199646323\n",
      "At random state 10,the testing accuracy is:- 0.3898161612741414\n",
      "\n",
      "\n",
      "At random state 11,the training accuracy is:- 0.4214994367034708\n",
      "At random state 11,the testing accuracy is:- 0.42407231484465735\n",
      "\n",
      "\n",
      "At random state 12,the training accuracy is:- 0.42379444958404466\n",
      "At random state 12,the testing accuracy is:- 0.41481749945718815\n",
      "\n",
      "\n",
      "At random state 13,the training accuracy is:- 0.4239495161125276\n",
      "At random state 13,the testing accuracy is:- 0.4128947329685708\n",
      "\n",
      "\n",
      "At random state 14,the training accuracy is:- 0.4270019206543546\n",
      "At random state 14,the testing accuracy is:- 0.4021224600402842\n",
      "\n",
      "\n",
      "At random state 15,the training accuracy is:- 0.42222805017017107\n",
      "At random state 15,the testing accuracy is:- 0.4216425304894065\n",
      "\n",
      "\n",
      "At random state 16,the training accuracy is:- 0.42501812605851874\n",
      "At random state 16,the testing accuracy is:- 0.40991895401196066\n",
      "\n",
      "\n",
      "At random state 17,the training accuracy is:- 0.4251164983375313\n",
      "At random state 17,the testing accuracy is:- 0.4082973392546735\n",
      "\n",
      "\n",
      "At random state 18,the training accuracy is:- 0.42254242604778713\n",
      "At random state 18,the testing accuracy is:- 0.42001136958755103\n",
      "\n",
      "\n",
      "At random state 19,the training accuracy is:- 0.4295337087975588\n",
      "At random state 19,the testing accuracy is:- 0.38784094139307923\n",
      "\n",
      "\n",
      "At random state 20,the training accuracy is:- 0.42195586063428514\n",
      "At random state 20,the testing accuracy is:- 0.42286688309330045\n",
      "\n",
      "\n",
      "At random state 21,the training accuracy is:- 0.4226955255227205\n",
      "At random state 21,the testing accuracy is:- 0.4197007788924554\n",
      "\n",
      "\n",
      "At random state 22,the training accuracy is:- 0.4201873673265504\n",
      "At random state 22,the testing accuracy is:- 0.4263000602049224\n",
      "\n",
      "\n",
      "At random state 23,the training accuracy is:- 0.4222071946628131\n",
      "At random state 23,the testing accuracy is:- 0.4211056194246364\n",
      "\n",
      "\n",
      "At random state 24,the training accuracy is:- 0.41297890860894915\n",
      "At random state 24,the testing accuracy is:- 0.4548621212070505\n",
      "\n",
      "\n",
      "At random state 25,the training accuracy is:- 0.4262101245245874\n",
      "At random state 25,the testing accuracy is:- 0.40554698059198546\n",
      "\n",
      "\n",
      "At random state 26,the training accuracy is:- 0.4224124547142456\n",
      "At random state 26,the testing accuracy is:- 0.42096823388353477\n",
      "\n",
      "\n",
      "At random state 27,the training accuracy is:- 0.4196321575631118\n",
      "At random state 27,the testing accuracy is:- 0.43266261982600007\n",
      "\n",
      "\n",
      "At random state 28,the training accuracy is:- 0.42167029266966194\n",
      "At random state 28,the testing accuracy is:- 0.42421279824913294\n",
      "\n",
      "\n",
      "At random state 29,the training accuracy is:- 0.4198301622014331\n",
      "At random state 29,the testing accuracy is:- 0.4296071512403369\n",
      "\n",
      "\n",
      "At random state 30,the training accuracy is:- 0.4230654493154986\n",
      "At random state 30,the testing accuracy is:- 0.4184567006360317\n",
      "\n",
      "\n",
      "At random state 31,the training accuracy is:- 0.42093505583585633\n",
      "At random state 31,the testing accuracy is:- 0.4238837413493506\n",
      "\n",
      "\n",
      "At random state 32,the training accuracy is:- 0.42696618002029196\n",
      "At random state 32,the testing accuracy is:- 0.4026557898447425\n",
      "\n",
      "\n",
      "At random state 33,the training accuracy is:- 0.42599808590795674\n",
      "At random state 33,the testing accuracy is:- 0.4084642497562543\n",
      "\n",
      "\n",
      "At random state 34,the training accuracy is:- 0.42680528161147513\n",
      "At random state 34,the testing accuracy is:- 0.40335094467306765\n",
      "\n",
      "\n",
      "At random state 35,the training accuracy is:- 0.4232521661136316\n",
      "At random state 35,the testing accuracy is:- 0.4177768010248527\n",
      "\n",
      "\n",
      "At random state 36,the training accuracy is:- 0.41806283105163833\n",
      "At random state 36,the testing accuracy is:- 0.43853363935582534\n",
      "\n",
      "\n",
      "At random state 37,the training accuracy is:- 0.43488124057480315\n",
      "At random state 37,the testing accuracy is:- 0.36550942454758806\n",
      "\n",
      "\n",
      "At random state 38,the training accuracy is:- 0.4177483911282829\n",
      "At random state 38,the testing accuracy is:- 0.4412155610023629\n",
      "\n",
      "\n",
      "At random state 39,the training accuracy is:- 0.4199864476594476\n",
      "At random state 39,the testing accuracy is:- 0.42939825061937087\n",
      "\n",
      "\n",
      "At random state 40,the training accuracy is:- 0.4198973664712219\n",
      "At random state 40,the testing accuracy is:- 0.4302335434758363\n",
      "\n",
      "\n",
      "At random state 41,the training accuracy is:- 0.42677179083222594\n",
      "At random state 41,the testing accuracy is:- 0.40151089594524625\n",
      "\n",
      "\n",
      "At random state 42,the training accuracy is:- 0.42315060789421277\n",
      "At random state 42,the testing accuracy is:- 0.4174105214913084\n",
      "\n",
      "\n",
      "At random state 43,the training accuracy is:- 0.4219107842834793\n",
      "At random state 43,the testing accuracy is:- 0.42000040927170124\n",
      "\n",
      "\n",
      "At random state 44,the training accuracy is:- 0.41879638933955154\n",
      "At random state 44,the testing accuracy is:- 0.4348538670103598\n",
      "\n",
      "\n",
      "At random state 45,the training accuracy is:- 0.41760316983545465\n",
      "At random state 45,the testing accuracy is:- 0.44030071328797205\n",
      "\n",
      "\n",
      "At random state 46,the training accuracy is:- 0.4171816948970666\n",
      "At random state 46,the testing accuracy is:- 0.4412021487438359\n",
      "\n",
      "\n",
      "At random state 47,the training accuracy is:- 0.4239164956804722\n",
      "At random state 47,the testing accuracy is:- 0.412579397046387\n",
      "\n",
      "\n",
      "At random state 48,the training accuracy is:- 0.42363434980068104\n",
      "At random state 48,the testing accuracy is:- 0.4155004911432787\n",
      "\n",
      "\n",
      "At random state 49,the training accuracy is:- 0.4233308431582201\n",
      "At random state 49,the testing accuracy is:- 0.41771860825322193\n",
      "\n",
      "\n",
      "At random state 50,the training accuracy is:- 0.4182510879791176\n",
      "At random state 50,the testing accuracy is:- 0.43819629308951713\n",
      "\n",
      "\n",
      "At random state 51,the training accuracy is:- 0.4201024541523246\n",
      "At random state 51,the testing accuracy is:- 0.4296634148741295\n",
      "\n",
      "\n",
      "At random state 52,the training accuracy is:- 0.42372737861576926\n",
      "At random state 52,the testing accuracy is:- 0.4153343774582575\n",
      "\n",
      "\n",
      "At random state 53,the training accuracy is:- 0.42369947986348067\n",
      "At random state 53,the testing accuracy is:- 0.41518196062096047\n",
      "\n",
      "\n",
      "At random state 54,the training accuracy is:- 0.4215862780791376\n",
      "At random state 54,the testing accuracy is:- 0.4246226718242021\n",
      "\n",
      "\n",
      "At random state 55,the training accuracy is:- 0.42474085914251214\n",
      "At random state 55,the testing accuracy is:- 0.410000198469361\n",
      "\n",
      "\n",
      "At random state 56,the training accuracy is:- 0.42995837319364716\n",
      "At random state 56,the testing accuracy is:- 0.39117387431151207\n",
      "\n",
      "\n",
      "At random state 57,the training accuracy is:- 0.420741825895359\n",
      "At random state 57,the testing accuracy is:- 0.42578092758425223\n",
      "\n",
      "\n",
      "At random state 58,the training accuracy is:- 0.41980107032627323\n",
      "At random state 58,the testing accuracy is:- 0.4295137600285224\n",
      "\n",
      "\n",
      "At random state 59,the training accuracy is:- 0.4255126725522531\n",
      "At random state 59,the testing accuracy is:- 0.4077590601762655\n",
      "\n",
      "\n",
      "At random state 60,the training accuracy is:- 0.4169412671555013\n",
      "At random state 60,the testing accuracy is:- 0.4427864153984621\n",
      "\n",
      "\n",
      "At random state 61,the training accuracy is:- 0.41773691606547014\n",
      "At random state 61,the testing accuracy is:- 0.4389434139096128\n",
      "\n",
      "\n",
      "At random state 62,the training accuracy is:- 0.4229038117983791\n",
      "At random state 62,the testing accuracy is:- 0.4182291857819208\n",
      "\n",
      "\n",
      "At random state 63,the training accuracy is:- 0.4221691764655502\n",
      "At random state 63,the testing accuracy is:- 0.4214547870155032\n",
      "\n",
      "\n",
      "At random state 64,the training accuracy is:- 0.4222023577059735\n",
      "At random state 64,the testing accuracy is:- 0.4218484738493672\n",
      "\n",
      "\n",
      "At random state 65,the training accuracy is:- 0.4208064080759776\n",
      "At random state 65,the testing accuracy is:- 0.4273262556959099\n",
      "\n",
      "\n"
     ]
    },
    {
     "name": "stdout",
     "output_type": "stream",
     "text": [
      "At random state 66,the training accuracy is:- 0.4290816053332188\n",
      "At random state 66,the testing accuracy is:- 0.3890563872610827\n",
      "\n",
      "\n",
      "At random state 67,the training accuracy is:- 0.42110440820254813\n",
      "At random state 67,the testing accuracy is:- 0.4261220499846996\n",
      "\n",
      "\n",
      "At random state 68,the training accuracy is:- 0.42062362679897813\n",
      "At random state 68,the testing accuracy is:- 0.42766248926737027\n",
      "\n",
      "\n",
      "At random state 69,the training accuracy is:- 0.4196181476503996\n",
      "At random state 69,the testing accuracy is:- 0.4315503747073325\n",
      "\n",
      "\n",
      "At random state 70,the training accuracy is:- 0.4266806996245799\n",
      "At random state 70,the testing accuracy is:- 0.4026156354865629\n",
      "\n",
      "\n",
      "At random state 71,the training accuracy is:- 0.42513791383297406\n",
      "At random state 71,the testing accuracy is:- 0.4104709083686492\n",
      "\n",
      "\n",
      "At random state 72,the training accuracy is:- 0.4222413284717599\n",
      "At random state 72,the testing accuracy is:- 0.421111663220778\n",
      "\n",
      "\n",
      "At random state 73,the training accuracy is:- 0.42714227934893245\n",
      "At random state 73,the testing accuracy is:- 0.40040975451883787\n",
      "\n",
      "\n",
      "At random state 74,the training accuracy is:- 0.42471541258830003\n",
      "At random state 74,the testing accuracy is:- 0.412413381308383\n",
      "\n",
      "\n",
      "At random state 75,the training accuracy is:- 0.42270014980390525\n",
      "At random state 75,the testing accuracy is:- 0.42019905215569586\n",
      "\n",
      "\n",
      "At random state 76,the training accuracy is:- 0.4189263974561701\n",
      "At random state 76,the testing accuracy is:- 0.43476797138618395\n",
      "\n",
      "\n",
      "At random state 77,the training accuracy is:- 0.41233408136657324\n",
      "At random state 77,the testing accuracy is:- 0.4662497988612805\n",
      "\n",
      "\n",
      "At random state 78,the training accuracy is:- 0.4185267017706952\n",
      "At random state 78,the testing accuracy is:- 0.43745195957230887\n",
      "\n",
      "\n",
      "At random state 79,the training accuracy is:- 0.4240749603830901\n",
      "At random state 79,the testing accuracy is:- 0.41193683388828817\n",
      "\n",
      "\n",
      "At random state 80,the training accuracy is:- 0.42136883374483813\n",
      "At random state 80,the testing accuracy is:- 0.42392643228319726\n",
      "\n",
      "\n",
      "At random state 81,the training accuracy is:- 0.4207062363975771\n",
      "At random state 81,the testing accuracy is:- 0.42665471953774614\n",
      "\n",
      "\n",
      "At random state 82,the training accuracy is:- 0.4282946728626016\n",
      "At random state 82,the testing accuracy is:- 0.39795116675438214\n",
      "\n",
      "\n",
      "At random state 83,the training accuracy is:- 0.426426562434977\n",
      "At random state 83,the testing accuracy is:- 0.40535743157535087\n",
      "\n",
      "\n",
      "At random state 84,the training accuracy is:- 0.42655329102581496\n",
      "At random state 84,the testing accuracy is:- 0.40392617130404107\n",
      "\n",
      "\n",
      "At random state 85,the training accuracy is:- 0.4229848341772571\n",
      "At random state 85,the testing accuracy is:- 0.4175226374737089\n",
      "\n",
      "\n",
      "At random state 86,the training accuracy is:- 0.42569072134171126\n",
      "At random state 86,the testing accuracy is:- 0.40764979402332413\n",
      "\n",
      "\n",
      "At random state 87,the training accuracy is:- 0.4262981024638346\n",
      "At random state 87,the testing accuracy is:- 0.40457728786504543\n",
      "\n",
      "\n",
      "At random state 88,the training accuracy is:- 0.424499747042445\n",
      "At random state 88,the testing accuracy is:- 0.41120542318520026\n",
      "\n",
      "\n",
      "At random state 89,the training accuracy is:- 0.4157389535598136\n",
      "At random state 89,the testing accuracy is:- 0.44721414635694967\n",
      "\n",
      "\n",
      "At random state 90,the training accuracy is:- 0.4267549208039325\n",
      "At random state 90,the testing accuracy is:- 0.4039873078052849\n",
      "\n",
      "\n",
      "At random state 91,the training accuracy is:- 0.41578996569388127\n",
      "At random state 91,the testing accuracy is:- 0.44825000045081653\n",
      "\n",
      "\n",
      "At random state 92,the training accuracy is:- 0.43038373632201965\n",
      "At random state 92,the testing accuracy is:- 0.39073652891106336\n",
      "\n",
      "\n",
      "At random state 93,the training accuracy is:- 0.42459412885511827\n",
      "At random state 93,the testing accuracy is:- 0.4111775235994167\n",
      "\n",
      "\n",
      "At random state 94,the training accuracy is:- 0.42272273159677076\n",
      "At random state 94,the testing accuracy is:- 0.41650955639864173\n",
      "\n",
      "\n",
      "At random state 95,the training accuracy is:- 0.42188200599529924\n",
      "At random state 95,the testing accuracy is:- 0.42157384078866433\n",
      "\n",
      "\n",
      "At random state 96,the training accuracy is:- 0.4257032594355602\n",
      "At random state 96,the testing accuracy is:- 0.40820273625238224\n",
      "\n",
      "\n",
      "At random state 97,the training accuracy is:- 0.4156174258053448\n",
      "At random state 97,the testing accuracy is:- 0.4458669663784779\n",
      "\n",
      "\n",
      "At random state 98,the training accuracy is:- 0.4178845341718851\n",
      "At random state 98,the testing accuracy is:- 0.4371086461703668\n",
      "\n",
      "\n",
      "At random state 99,the training accuracy is:- 0.4249600455752175\n",
      "At random state 99,the testing accuracy is:- 0.4114629590302257\n",
      "\n",
      "\n"
     ]
    }
   ],
   "source": [
    "for i in range(0,100):\n",
    "    train_x,test_x,train_y,test_y=train_test_split(x,y,test_size=0.2,random_state=i)\n",
    "    lr.fit(train_x,train_y)\n",
    "    pred_train=lr.predict(train_x)\n",
    "    pred_test=lr.predict(test_x)\n",
    "    print(f\"At random state {i},the training accuracy is:- {r2_score(train_y,pred_train)}\")\n",
    "    print(f\"At random state {i},the testing accuracy is:- {r2_score(test_y,pred_test)}\")\n",
    "    print(\"\\n\")"
   ]
  },
  {
   "cell_type": "code",
   "execution_count": 253,
   "id": "123489d3",
   "metadata": {},
   "outputs": [
    {
     "data": {
      "text/plain": [
       "0.4114629590302257"
      ]
     },
     "execution_count": 253,
     "metadata": {},
     "output_type": "execute_result"
    }
   ],
   "source": [
    "lr.fit(train_x,train_y)\n",
    "lr.score(test_x,test_y)"
   ]
  },
  {
   "cell_type": "code",
   "execution_count": 254,
   "id": "a9e348f9",
   "metadata": {},
   "outputs": [
    {
     "data": {
      "text/plain": [
       "array([452974.86073486, 540434.90032326, 569260.41461735, ...,\n",
       "       855888.15172259, 577591.9854446 , 686948.77884645])"
      ]
     },
     "execution_count": 254,
     "metadata": {},
     "output_type": "execute_result"
    }
   ],
   "source": [
    "#Predicted data\n",
    "pred=lr.predict(test_x)\n",
    "pred"
   ]
  },
  {
   "cell_type": "code",
   "execution_count": 255,
   "id": "7dca7b12",
   "metadata": {},
   "outputs": [
    {
     "name": "stdout",
     "output_type": "stream",
     "text": [
      "Mean squared error: 52953867558.00204\n",
      "Mean absolute error: 161273.41488797826\n",
      "R2Score: 0.4114629590302257\n"
     ]
    }
   ],
   "source": [
    "print(\"Mean squared error:\",mean_squared_error(test_y,pred))\n",
    "print(\"Mean absolute error:\",mean_absolute_error(test_y,pred))\n",
    "print(\"R2Score:\",r2_score(test_y,pred))"
   ]
  },
  {
   "cell_type": "code",
   "execution_count": 256,
   "id": "8ba0f3a5",
   "metadata": {},
   "outputs": [
    {
     "name": "stdout",
     "output_type": "stream",
     "text": [
      "At cross fold 2 the cv score is 0.39951170832183647 and accuracy score for training is 0.4249600455752175 and accuracy for the testing is 0.4114629590302257\n",
      "\n",
      "\n",
      "At cross fold 3 the cv score is 0.38267064175807236 and accuracy score for training is 0.4249600455752175 and accuracy for the testing is 0.4114629590302257\n",
      "\n",
      "\n",
      "At cross fold 4 the cv score is 0.39653456695233674 and accuracy score for training is 0.4249600455752175 and accuracy for the testing is 0.4114629590302257\n",
      "\n",
      "\n",
      "At cross fold 5 the cv score is 0.38811506903295007 and accuracy score for training is 0.4249600455752175 and accuracy for the testing is 0.4114629590302257\n",
      "\n",
      "\n",
      "At cross fold 6 the cv score is 0.3883437094147864 and accuracy score for training is 0.4249600455752175 and accuracy for the testing is 0.4114629590302257\n",
      "\n",
      "\n",
      "At cross fold 7 the cv score is 0.3902254950646093 and accuracy score for training is 0.4249600455752175 and accuracy for the testing is 0.4114629590302257\n",
      "\n",
      "\n",
      "At cross fold 8 the cv score is 0.3759770235498439 and accuracy score for training is 0.4249600455752175 and accuracy for the testing is 0.4114629590302257\n",
      "\n",
      "\n",
      "At cross fold 9 the cv score is 0.37852329418127684 and accuracy score for training is 0.4249600455752175 and accuracy for the testing is 0.4114629590302257\n",
      "\n",
      "\n"
     ]
    }
   ],
   "source": [
    "Train_accuracy=r2_score(train_y,pred_train)\n",
    "Test_accuracy=r2_score(test_y,pred_test)\n",
    "\n",
    "from sklearn.model_selection import cross_val_score\n",
    "for j in range(2,10):\n",
    "    cv_score=cross_val_score(lr,x,y,cv=j)\n",
    "    cv_mean=cv_score.mean()\n",
    "    print(f\"At cross fold {j} the cv score is {cv_mean} and accuracy score for training is {Train_accuracy} and accuracy for the testing is {Test_accuracy}\")\n",
    "    print(\"\\n\")"
   ]
  },
  {
   "cell_type": "code",
   "execution_count": 257,
   "id": "2db79646",
   "metadata": {},
   "outputs": [
    {
     "data": {
      "image/png": "[encoded data removed]",
      "text/plain": [
       "<Figure size 576x432 with 1 Axes>"
      ]
     },
     "metadata": {
      "needs_background": "light"
     },
     "output_type": "display_data"
    }
   ],
   "source": [
    "import matplotlib.pyplot as plt\n",
    "plt.figure(figsize=(8,6))\n",
    "plt.scatter(x=test_y, y=pred_test, color='r')\n",
    "plt.plot(test_y,test_y, color='b')\n",
    "plt.xlabel('Actual data',fontsize=14)\n",
    "plt.ylabel('Predicted data',fontsize=14)\n",
    "plt.title('Linear Regression',fontsize=18)\n",
    "plt.show()"
   ]
  },
  {
   "cell_type": "code",
   "execution_count": 258,
   "id": "e302d86f",
   "metadata": {},
   "outputs": [],
   "source": [
    "# Importing Libraries and Hyper parameter tuning:\n",
    "from sklearn.model_selection import GridSearchCV\n",
    "from sklearn.model_selection import cross_val_score\n",
    "import warnings\n",
    "warnings.filterwarnings('ignore')"
   ]
  },
  {
   "cell_type": "code",
   "execution_count": 259,
   "id": "48409caf",
   "metadata": {},
   "outputs": [
    {
     "name": "stdout",
     "output_type": "stream",
     "text": [
      "{'alpha': 10, 'random_state': 0}\n"
     ]
    }
   ],
   "source": [
    "from sklearn.linear_model import Lasso  #Importing Lasso library\n",
    "\n",
    "parameters = {'alpha':[.0001, .001, .01, .1, 1,10],'random_state':list(range(0,10))}\n",
    "ls = Lasso()\n",
    "clf = GridSearchCV(ls,parameters)\n",
    "clf.fit(train_x,train_y)\n",
    "\n",
    "print(clf.best_params_)"
   ]
  },
  {
   "cell_type": "code",
   "execution_count": 260,
   "id": "a702342a",
   "metadata": {},
   "outputs": [
    {
     "name": "stdout",
     "output_type": "stream",
     "text": [
      "ls score 0.42496003734404064\n",
      "r2 score 41.14652982141232\n"
     ]
    }
   ],
   "source": [
    "ls = Lasso(alpha=10,random_state=0)\n",
    "ls.fit(train_x,train_y)\n",
    "ls.score(train_x,train_y)\n",
    "print('ls score',ls.score(train_x,train_y))\n",
    "pred_ls = ls.predict(test_x)\n",
    "\n",
    "r2s = r2_score(test_y,pred_ls)\n",
    "print('r2 score',r2s*100)"
   ]
  },
  {
   "cell_type": "code",
   "execution_count": 264,
   "id": "162a7379",
   "metadata": {},
   "outputs": [
    {
     "data": {
      "text/plain": [
       "0.39951314090037726"
      ]
     },
     "execution_count": 264,
     "metadata": {},
     "output_type": "execute_result"
    }
   ],
   "source": [
    "cv_score=cross_val_score(ls,x,y,cv=2)\n",
    "cv_mean=cv_score.mean()\n",
    "cv_mean"
   ]
  },
  {
   "cell_type": "markdown",
   "id": "13c0f646",
   "metadata": {},
   "source": [
    "## 1. Random Forest Regressor"
   ]
  },
  {
   "cell_type": "code",
   "execution_count": 265,
   "id": "a9e87193",
   "metadata": {},
   "outputs": [
    {
     "name": "stdout",
     "output_type": "stream",
     "text": [
      "{'criterion': 'mse', 'max_features': 'auto'}\n"
     ]
    }
   ],
   "source": [
    "# Importing Libraries and Hyper parameter tuning:\n",
    "from sklearn.model_selection import GridSearchCV\n",
    "from sklearn.ensemble import RandomForestRegressor\n",
    "\n",
    "parameters = {'criterion':['mse', 'mae'],'max_features':[\"auto\", \"sqrt\", \"log2\"]}\n",
    "rf =RandomForestRegressor()\n",
    "clf = GridSearchCV(rf,parameters)\n",
    "clf.fit(train_x,train_y)\n",
    "\n",
    "print(clf.best_params_)"
   ]
  },
  {
   "cell_type": "code",
   "execution_count": 266,
   "id": "783cad38",
   "metadata": {},
   "outputs": [
    {
     "name": "stdout",
     "output_type": "stream",
     "text": [
      "rf score 0.9884218315247001\n",
      "R2 Score: 90.08170508911947\n",
      "Cross Val Score: 86.36686763097457\n",
      "Mean squared error: 8924027521.641525\n",
      "Mean absolute error: 45662.57994218949\n"
     ]
    }
   ],
   "source": [
    "rf= RandomForestRegressor(criterion=\"mse\",max_features=\"auto\")\n",
    "rf.fit(train_x,train_y)\n",
    "rf.score(train_x,train_y)\n",
    "predrf = rf.predict(test_x)\n",
    "print('rf score',rf.score(train_x,train_y))\n",
    "rfs = r2_score(test_y,predrf)\n",
    "print('R2 Score:',rfs*100)\n",
    "\n",
    "rfscore = cross_val_score(rf,x,y,cv=2)\n",
    "rfc = rfscore.mean()\n",
    "print('Cross Val Score:',rfc*100)\n",
    "print(\"Mean squared error:\",mean_squared_error(test_y,predrf))\n",
    "print(\"Mean absolute error:\",mean_absolute_error(test_y,predrf))"
   ]
  },
  {
   "cell_type": "code",
   "execution_count": 267,
   "id": "aac62c7d",
   "metadata": {},
   "outputs": [
    {
     "data": {
      "image/png": "[encoded data removed]",
      "text/plain": [
       "<Figure size 576x432 with 1 Axes>"
      ]
     },
     "metadata": {
      "needs_background": "light"
     },
     "output_type": "display_data"
    }
   ],
   "source": [
    "import matplotlib.pyplot as plt\n",
    "plt.figure(figsize=(8,6))\n",
    "plt.scatter(x=test_y, y=predrf, color='r')\n",
    "plt.plot(test_y,test_y, color='b')\n",
    "plt.xlabel('Actual data',fontsize=14)\n",
    "plt.ylabel('Predicted data',fontsize=14)\n",
    "plt.title('Random Forest Regressor',fontsize=18)\n",
    "plt.show()"
   ]
  },
  {
   "cell_type": "markdown",
   "id": "ce05e7f0",
   "metadata": {},
   "source": [
    "## 2. Decision Tree Regressor"
   ]
  },
  {
   "cell_type": "code",
   "execution_count": 268,
   "id": "4c5692b5",
   "metadata": {},
   "outputs": [
    {
     "name": "stdout",
     "output_type": "stream",
     "text": [
      "{'criterion': 'mse', 'max_depth': 8, 'max_features': 'auto', 'min_samples_split': 0.25}\n"
     ]
    }
   ],
   "source": [
    "# Importing Libraries and Hyper parameter tuning:\n",
    "from sklearn.model_selection import GridSearchCV\n",
    "from sklearn.tree import DecisionTreeRegressor\n",
    "\n",
    "parameters = {'criterion':['mse', 'mae'],\n",
    "              'max_features':[\"auto\",\"sqrt\", \"log2\"],\n",
    "              'max_depth':[2,4,8,10,None],\n",
    "            'min_samples_split':[0.25,0.5,1.0]}\n",
    "dt =DecisionTreeRegressor()\n",
    "clf = GridSearchCV(dt,parameters)\n",
    "clf.fit(train_x,train_y)\n",
    "\n",
    "print(clf.best_params_)"
   ]
  },
  {
   "cell_type": "code",
   "execution_count": 269,
   "id": "96ce7a89",
   "metadata": {},
   "outputs": [
    {
     "name": "stdout",
     "output_type": "stream",
     "text": [
      "dt score 0.37149582688547356\n",
      "R2 Score: 37.89879295040157\n",
      "Cross Val Score: 34.22555162915215\n",
      "Mean squared error: 55875821985.27053\n",
      "Mean absolute error: 160091.02777572075\n"
     ]
    }
   ],
   "source": [
    "dt =DecisionTreeRegressor(criterion=\"mse\",max_features=\"auto\",max_depth=8,min_samples_split=0.25)\n",
    "dt.fit(train_x,train_y)\n",
    "dt.score(train_x,train_y)\n",
    "predt = dt.predict(test_x)\n",
    "print('dt score',dt.score(train_x,train_y))\n",
    "dts = r2_score(test_y,predt)\n",
    "print('R2 Score:',dts*100)\n",
    "\n",
    "dtscore = cross_val_score(dt,x,y,cv=2)\n",
    "dtc = dtscore.mean()\n",
    "print('Cross Val Score:',dtc*100)\n",
    "print(\"Mean squared error:\",mean_squared_error(test_y,predt))\n",
    "print(\"Mean absolute error:\",mean_absolute_error(test_y,predt))"
   ]
  },
  {
   "cell_type": "code",
   "execution_count": 270,
   "id": "bd544f1c",
   "metadata": {},
   "outputs": [
    {
     "data": {
      "image/png": "[encoded data removed]",
      "text/plain": [
       "<Figure size 576x432 with 1 Axes>"
      ]
     },
     "metadata": {
      "needs_background": "light"
     },
     "output_type": "display_data"
    }
   ],
   "source": [
    "import matplotlib.pyplot as plt\n",
    "plt.figure(figsize=(8,6))\n",
    "plt.scatter(x=test_y, y=predt, color='r')\n",
    "plt.plot(test_y,test_y, color='b')\n",
    "plt.xlabel('Actual data',fontsize=14)\n",
    "plt.ylabel('Predicted data',fontsize=14)\n",
    "plt.title('Decision Tree Regressor',fontsize=18)\n",
    "plt.show()"
   ]
  },
  {
   "cell_type": "markdown",
   "id": "7c1c8cfc",
   "metadata": {},
   "source": [
    "## 3. KNeighborsRegressor"
   ]
  },
  {
   "cell_type": "code",
   "execution_count": 271,
   "id": "aacffc16",
   "metadata": {},
   "outputs": [
    {
     "name": "stdout",
     "output_type": "stream",
     "text": [
      "{'algorithm': 'auto', 'n_neighbors': 9, 'weights': 'distance'}\n"
     ]
    }
   ],
   "source": [
    "# Importing Libraries and Hyper parameter tuning:\n",
    "from sklearn.neighbors import KNeighborsRegressor\n",
    "from sklearn.model_selection import GridSearchCV\n",
    "from sklearn.metrics import mean_squared_error,mean_absolute_error\n",
    "\n",
    "parameters = {'n_neighbors':list(range(0,10)),\n",
    "              'weights':['uniform', 'distance'],\n",
    "              'algorithm':['auto', 'ball_tree', 'kd_tree', 'brute']\n",
    "              }\n",
    "kn =KNeighborsRegressor()\n",
    "clf = GridSearchCV(kn,parameters)\n",
    "clf.fit(train_x,train_y)\n",
    "\n",
    "print(clf.best_params_)"
   ]
  },
  {
   "cell_type": "code",
   "execution_count": 273,
   "id": "83c8103e",
   "metadata": {},
   "outputs": [
    {
     "name": "stdout",
     "output_type": "stream",
     "text": [
      "kn score 0.9999827980029782\n",
      "R2 Score: 85.4984830547524\n",
      "Cross Val Score: 84.93799993173525\n",
      "Mean squared error: 13047800805.2547\n",
      "Mean absolute error: 48619.812441345406\n"
     ]
    }
   ],
   "source": [
    "kn =KNeighborsRegressor(n_neighbors=9,algorithm=\"auto\",weights='distance')\n",
    "kn.fit(train_x,train_y)\n",
    "kn.score(train_x,train_y)\n",
    "predkn = kn.predict(test_x)\n",
    "print('kn score',kn.score(train_x,train_y))\n",
    "kns = r2_score(test_y,predkn)\n",
    "print('R2 Score:',kns*100)\n",
    "\n",
    "knscore = cross_val_score(kn,x,y,cv=7)\n",
    "knc = knscore.mean()\n",
    "print('Cross Val Score:',knc*100)\n",
    "print(\"Mean squared error:\",mean_squared_error(test_y,predkn))\n",
    "print(\"Mean absolute error:\",mean_absolute_error(test_y,predkn))"
   ]
  },
  {
   "cell_type": "code",
   "execution_count": 274,
   "id": "04648fb7",
   "metadata": {},
   "outputs": [
    {
     "data": {
      "image/png": "[encoded data removed]",
      "text/plain": [
       "<Figure size 576x432 with 1 Axes>"
      ]
     },
     "metadata": {
      "needs_background": "light"
     },
     "output_type": "display_data"
    }
   ],
   "source": [
    "import matplotlib.pyplot as plt\n",
    "plt.figure(figsize=(8,6))\n",
    "plt.scatter(x=test_y, y=predkn, color='r')\n",
    "plt.plot(test_y,test_y, color='b')\n",
    "plt.xlabel('Actual data',fontsize=14)\n",
    "plt.ylabel('Predicted data',fontsize=14)\n",
    "plt.title('KNeighbors Regressor',fontsize=18)\n",
    "plt.show()"
   ]
  },
  {
   "cell_type": "markdown",
   "id": "21f06c17",
   "metadata": {},
   "source": [
    "## 4. SVR"
   ]
  },
  {
   "cell_type": "code",
   "execution_count": 275,
   "id": "f14e80fd",
   "metadata": {},
   "outputs": [
    {
     "name": "stdout",
     "output_type": "stream",
     "text": [
      "{'C': 10000, 'gamma': 0.2, 'kernel': 'rbf'}\n"
     ]
    }
   ],
   "source": [
    "# Importing Libraries and Hyper parameter tuning:\n",
    "from sklearn.svm import SVR\n",
    "from sklearn.model_selection import GridSearchCV\n",
    "from sklearn.metrics import mean_squared_error,mean_absolute_error\n",
    "svr =SVR()\n",
    "parameters = [{'kernel': ['rbf'], 'gamma': [1e-4, 1e-3, 0.01, 0.1, 0.2, 0.5, 0.6, 0.9],'C': [1, 10, 100, 1000, 10000]}]\n",
    "\n",
    "clf = GridSearchCV(svr,parameters)\n",
    "clf.fit(train_x,train_y)\n",
    "\n",
    "print(clf.best_params_)"
   ]
  },
  {
   "cell_type": "code",
   "execution_count": 277,
   "id": "09f78c78",
   "metadata": {},
   "outputs": [
    {
     "name": "stdout",
     "output_type": "stream",
     "text": [
      "svr score 0.47054074196511564\n",
      "R2 Score: 44.022076854138746\n",
      "Cross Val Score: 44.168034184638536\n",
      "Mean squared error: 50366371563.522194\n",
      "Mean absolute error: 137996.84203620307\n"
     ]
    }
   ],
   "source": [
    "svr =SVR(C=10000,gamma=0.2,kernel='rbf')\n",
    "svr.fit(train_x,train_y)\n",
    "svr.score(train_x,train_y)\n",
    "predsvr = svr.predict(test_x)\n",
    "print('svr score',svr.score(train_x,train_y))\n",
    "svrs = r2_score(test_y,predsvr)\n",
    "print('R2 Score:',svrs*100)\n",
    "\n",
    "svrscore = cross_val_score(svr,x,y,cv=7)\n",
    "svrc = svrscore.mean()\n",
    "print('Cross Val Score:',svrc*100)\n",
    "print(\"Mean squared error:\",mean_squared_error(test_y,predsvr))\n",
    "print(\"Mean absolute error:\",mean_absolute_error(test_y,predsvr))"
   ]
  },
  {
   "cell_type": "code",
   "execution_count": 278,
   "id": "9639a150",
   "metadata": {},
   "outputs": [
    {
     "data": {
      "image/png": "[encoded data removed]",
      "text/plain": [
       "<Figure size 576x432 with 1 Axes>"
      ]
     },
     "metadata": {
      "needs_background": "light"
     },
     "output_type": "display_data"
    }
   ],
   "source": [
    "import matplotlib.pyplot as plt\n",
    "plt.figure(figsize=(8,6))\n",
    "plt.scatter(x=test_y, y=predsvr, color='r')\n",
    "plt.plot(test_y,test_y, color='b')\n",
    "plt.xlabel('Actual data',fontsize=14)\n",
    "plt.ylabel('Predicted data',fontsize=14)\n",
    "plt.title('SV Regressor',fontsize=18)\n",
    "plt.show()"
   ]
  },
  {
   "cell_type": "markdown",
   "id": "546bf104",
   "metadata": {},
   "source": [
    "## Best Model:\n",
    "\n",
    "K-Neighbors Regressor R2 Score and Cross validation score have very less difference as their values are 85.49% and 84.93% respectively and has less mean squared error so it is the best Model."
   ]
  },
  {
   "cell_type": "markdown",
   "id": "5d550c59",
   "metadata": {},
   "source": [
    "# Model saving:"
   ]
  },
  {
   "cell_type": "code",
   "execution_count": 279,
   "id": "67d90b62",
   "metadata": {},
   "outputs": [],
   "source": [
    "import pickle\n",
    "filename = 'car_prices.pkl'\n",
    "pickle.dump(kn, open(filename, 'wb'))"
   ]
  },
  {
   "cell_type": "markdown",
   "id": "afd088f6",
   "metadata": {},
   "source": [
    "## Accuracy"
   ]
  },
  {
   "cell_type": "code",
   "execution_count": 280,
   "id": "aced074d",
   "metadata": {},
   "outputs": [
    {
     "name": "stdout",
     "output_type": "stream",
     "text": [
      "0.8549848305475239\n"
     ]
    }
   ],
   "source": [
    "loaded_model = pickle.load(open('car_prices.pkl','rb'))\n",
    "result = loaded_model.score(test_x, test_y)\n",
    "print(result)"
   ]
  },
  {
   "cell_type": "markdown",
   "id": "3a845caf",
   "metadata": {},
   "source": [
    "Accuracy of the model is 85.4%"
   ]
  },
  {
   "cell_type": "markdown",
   "id": "487ceefb",
   "metadata": {},
   "source": [
    "## Conclusion:"
   ]
  },
  {
   "cell_type": "code",
   "execution_count": 281,
   "id": "6f227824",
   "metadata": {},
   "outputs": [
    {
     "data": {
      "text/html": [
       "<div>\n",
       "<style scoped>\n",
       "    .dataframe tbody tr th:only-of-type {\n",
       "        vertical-align: middle;\n",
       "    }\n",
       "\n",
       "    .dataframe tbody tr th {\n",
       "        vertical-align: top;\n",
       "    }\n",
       "\n",
       "    .dataframe thead th {\n",
       "        text-align: right;\n",
       "    }\n",
       "</style>\n",
       "<table border=\"1\" class=\"dataframe\">\n",
       "  <thead>\n",
       "    <tr style=\"text-align: right;\">\n",
       "      <th></th>\n",
       "      <th>original</th>\n",
       "      <th>predicted</th>\n",
       "    </tr>\n",
       "  </thead>\n",
       "  <tbody>\n",
       "    <tr>\n",
       "      <th>0</th>\n",
       "      <td>670999</td>\n",
       "      <td>583728.328317</td>\n",
       "    </tr>\n",
       "    <tr>\n",
       "      <th>1</th>\n",
       "      <td>437099</td>\n",
       "      <td>437099.000000</td>\n",
       "    </tr>\n",
       "    <tr>\n",
       "      <th>2</th>\n",
       "      <td>866899</td>\n",
       "      <td>866899.000000</td>\n",
       "    </tr>\n",
       "    <tr>\n",
       "      <th>3</th>\n",
       "      <td>1550001</td>\n",
       "      <td>965201.319155</td>\n",
       "    </tr>\n",
       "    <tr>\n",
       "      <th>4</th>\n",
       "      <td>685199</td>\n",
       "      <td>685199.000000</td>\n",
       "    </tr>\n",
       "    <tr>\n",
       "      <th>...</th>\n",
       "      <td>...</td>\n",
       "      <td>...</td>\n",
       "    </tr>\n",
       "    <tr>\n",
       "      <th>1343</th>\n",
       "      <td>303799</td>\n",
       "      <td>303799.000000</td>\n",
       "    </tr>\n",
       "    <tr>\n",
       "      <th>1344</th>\n",
       "      <td>516299</td>\n",
       "      <td>516299.000000</td>\n",
       "    </tr>\n",
       "    <tr>\n",
       "      <th>1345</th>\n",
       "      <td>863999</td>\n",
       "      <td>863999.000000</td>\n",
       "    </tr>\n",
       "    <tr>\n",
       "      <th>1346</th>\n",
       "      <td>385099</td>\n",
       "      <td>385099.000000</td>\n",
       "    </tr>\n",
       "    <tr>\n",
       "      <th>1347</th>\n",
       "      <td>721199</td>\n",
       "      <td>721199.000000</td>\n",
       "    </tr>\n",
       "  </tbody>\n",
       "</table>\n",
       "<p>1348 rows × 2 columns</p>\n",
       "</div>"
      ],
      "text/plain": [
       "      original      predicted\n",
       "0       670999  583728.328317\n",
       "1       437099  437099.000000\n",
       "2       866899  866899.000000\n",
       "3      1550001  965201.319155\n",
       "4       685199  685199.000000\n",
       "...        ...            ...\n",
       "1343    303799  303799.000000\n",
       "1344    516299  516299.000000\n",
       "1345    863999  863999.000000\n",
       "1346    385099  385099.000000\n",
       "1347    721199  721199.000000\n",
       "\n",
       "[1348 rows x 2 columns]"
      ]
     },
     "execution_count": 281,
     "metadata": {},
     "output_type": "execute_result"
    }
   ],
   "source": [
    "import numpy as np\n",
    "a=np.array(test_y)\n",
    "predkn =np.array(kn.predict(test_x))\n",
    "df_com=pd.DataFrame({\"original\":a, \"predicted\": predkn},index=range(len(a)))\n",
    "df_com"
   ]
  },
  {
   "cell_type": "markdown",
   "id": "fad3407b",
   "metadata": {},
   "source": [
    "Predicted value is approximately equal to actual values."
   ]
  }
 ],
 "metadata": {
  "kernelspec": {
   "display_name": "Python 3",
   "language": "python",
   "name": "python3"
  },
  "language_info": {
   "codemirror_mode": {
    "name": "ipython",
    "version": 3
   },
   "file_extension": ".py",
   "mimetype": "text/x-python",
   "name": "python",
   "nbconvert_exporter": "python",
   "pygments_lexer": "ipython3",
   "version": "3.8.8"
  }
 },
 "nbformat": 4,
 "nbformat_minor": 5
}
